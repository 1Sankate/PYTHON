{
 "cells": [
  {
   "cell_type": "code",
   "execution_count": 28,
   "metadata": {},
   "outputs": [
    {
     "name": "stdout",
     "output_type": "stream",
     "text": [
      "3.4641016151377544\n",
      "120\n",
      "2.302585092994046\n",
      "0.5\n",
      "10\n",
      "120\n",
      "3.141592653589793\n",
      "2.718281828459045\n",
      "0.8939966636005579\n"
     ]
    }
   ],
   "source": [
    "import math\n",
    "\n",
    "print(math.sqrt(12))\n",
    "print(math.factorial(5))\n",
    "print(math.log(10))\n",
    "print(math.log(10,100))\n",
    "print(math.gcd(10,20,30))\n",
    "print(math.lcm(10,20,24))\n",
    "print(math.pi)\n",
    "print(math.e)\n",
    "print(math.sin(90))\n"
   ]
  },
  {
   "cell_type": "code",
   "execution_count": 29,
   "metadata": {},
   "outputs": [
    {
     "name": "stdout",
     "output_type": "stream",
     "text": [
      "get a random number 0 and 100: 0.5309407881098976\n",
      "get a random number 1 and 20: 3\n",
      "select a random item draw\n",
      "['Jack', 'Jane', 'joe', 'John']\n"
     ]
    }
   ],
   "source": [
    "from random import random,randint,choice,shuffle\n",
    "print(\"get a random number 0 and 100:\",random())\n",
    "print(\"get a random number 1 and 20:\",randint(1,19))\n",
    "print(\"select a random item\",choice([\"win\",\"lose\",\"draw\"]))\n",
    "name=[\"John\",\"Jane\",\"Jack\",\"joe\"]\n",
    "shuffle(name)\n",
    "print(name)"
   ]
  },
  {
   "cell_type": "code",
   "execution_count": 30,
   "metadata": {},
   "outputs": [
    {
     "name": "stdout",
     "output_type": "stream",
     "text": [
      "current time 2024-05-21 16:29:19.509858\n",
      "current date 2024-05-21\n",
      "current time 16:29:19.511011\n",
      "current month 5\n",
      "current hour 16\n",
      "current year 2024\n",
      "current second 19\n",
      "current minute 29\n",
      "currrnt weakday <built-in method weekday of datetime.datetime object at 0x00000186D2332E50>\n"
     ]
    }
   ],
   "source": [
    "from datetime import datetime as dt\n",
    "print(\"current time\",dt.now())\n",
    "print(\"current date\",dt.now().date()) \n",
    "print(\"current time\",dt.now().time())\n",
    "print(\"current month\",dt.now().month) \n",
    "print(\"current hour\",dt.now().hour)\n",
    "print(\"current year\",dt.now().year)\n",
    "print(\"current second\",dt.now().second) \n",
    "print(\"current minute\",dt.now().minute) \n",
    "print(\"currrnt weakday\",dt.now().weekday)"
   ]
  },
  {
   "cell_type": "code",
   "execution_count": 31,
   "metadata": {},
   "outputs": [
    {
     "name": "stdout",
     "output_type": "stream",
     "text": [
      "formated date: 05/21/24/29/2024\n"
     ]
    }
   ],
   "source": [
    "date=dt.strftime(dt.now(),\"%D/%M/%Y\")\n",
    "print(\"formated date:\",date)"
   ]
  },
  {
   "cell_type": "code",
   "execution_count": 32,
   "metadata": {},
   "outputs": [
    {
     "name": "stdout",
     "output_type": "stream",
     "text": [
      "formated time= 16/29/19\n"
     ]
    }
   ],
   "source": [
    "time=dt.strftime(dt.now(),\"%H/%M/%S\")\n",
    "print(\"formated time=\",time)"
   ]
  },
  {
   "cell_type": "code",
   "execution_count": 33,
   "metadata": {},
   "outputs": [
    {
     "name": "stdout",
     "output_type": "stream",
     "text": [
      "current folder c:\\Users\\sanka\\OneDrive\\Desktop\\PYTHON\n"
     ]
    }
   ],
   "source": [
    "import os  # to know about folders,files or directories\n",
    " \n",
    "print('current folder',os.getcwd())"
   ]
  },
  {
   "cell_type": "code",
   "execution_count": 34,
   "metadata": {},
   "outputs": [
    {
     "name": "stdout",
     "output_type": "stream",
     "text": [
      "['Adobe Scan 17 May 2024.pdf', 'basics.ipynb', 'conditions.ipynb', 'datatypes.ipynb', 'dictionary.ipynb', 'fnct.ipynb', 'libraries.ipynb', 'list.ipynb', 'listcomprehension.ipynb', 'loops.ipynb', 'operators.ipynb', 'string.ipynb', 'variabl.ipynb']\n"
     ]
    }
   ],
   "source": [
    "import os\n",
    "files=os.listdir()\n",
    "print(files)"
   ]
  },
  {
   "cell_type": "code",
   "execution_count": 35,
   "metadata": {},
   "outputs": [
    {
     "name": "stdout",
     "output_type": "stream",
     "text": [
      "13\n"
     ]
    }
   ],
   "source": [
    "import os\n",
    "print(len(files))"
   ]
  },
  {
   "cell_type": "code",
   "execution_count": 36,
   "metadata": {},
   "outputs": [
    {
     "data": {
      "text/plain": [
       "<generator object walk at 0x00000186D2113120>"
      ]
     },
     "execution_count": 36,
     "metadata": {},
     "output_type": "execute_result"
    }
   ],
   "source": [
    "import os\n",
    "os.walk('c:')   #walk through all folders and files"
   ]
  },
  {
   "cell_type": "code",
   "execution_count": 37,
   "metadata": {},
   "outputs": [
    {
     "name": "stdout",
     "output_type": "stream",
     "text": [
      "path\n",
      "folder\n",
      "files\n",
      "13\n"
     ]
    }
   ],
   "source": [
    "total_files=0\n",
    "for path,folder,files in os.walk(r\"c:\\Users\\sanka\\OneDrive\\Desktop\\PYTHON\"):\n",
    "    print('path')\n",
    "    print('folder')\n",
    "    print('files')\n",
    "    total_files+=len(files)\n",
    "print(total_files) "
   ]
  },
  {
   "cell_type": "code",
   "execution_count": 39,
   "metadata": {},
   "outputs": [
    {
     "name": "stdout",
     "output_type": "stream",
     "text": [
      "files exist\n"
     ]
    }
   ],
   "source": [
    "import os\n",
    "files=r\"c:\\Users\\sanka\\OneDrive\\Desktop\\PYTHON\"\n",
    "if os.path.exists(files):\n",
    "    print(\"files exist\")"
   ]
  },
  {
   "cell_type": "code",
   "execution_count": null,
   "metadata": {},
   "outputs": [],
   "source": []
  }
 ],
 "metadata": {
  "kernelspec": {
   "display_name": "base",
   "language": "python",
   "name": "python3"
  },
  "language_info": {
   "codemirror_mode": {
    "name": "ipython",
    "version": 3
   },
   "file_extension": ".py",
   "mimetype": "text/x-python",
   "name": "python",
   "nbconvert_exporter": "python",
   "pygments_lexer": "ipython3",
   "version": "3.12.2"
  }
 },
 "nbformat": 4,
 "nbformat_minor": 2
}
