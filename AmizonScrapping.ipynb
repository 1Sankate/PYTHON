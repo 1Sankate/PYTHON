{
 "cells": [
  {
   "cell_type": "code",
   "execution_count": 98,
   "metadata": {},
   "outputs": [
    {
     "name": "stdout",
     "output_type": "stream",
     "text": [
      "Selecting a random User-Agent...\n",
      "Randomly picked browser: Edge\n",
      "Randomly picked operating system: Windows\n",
      "🌐🌐🌐🌐🌐🌐🌐🌐🌐🌐\n",
      "User agent:  {'User-Agent': 'Mozilla/5.0 (Windows NT 10.0; Win64; x64) AppleWebKit/537.36 (KHTML, like Gecko) Chrome/94.0.4606.71 Safari/537.36 Edg/94.0.992.50'}\n",
      "Cookies:  {'session-id': '', 'session-id-time': '', 'session-token': ''}\n",
      "url:  https://www.amazon.in/s?k=mobiles&page=1&crid=2CO87KTUUD19F&qid=1718043367&sprefix=mobiles+%2Caps%2C317&ref=sr_pg_2\n",
      "🌐🌐🌐🌐🌐🌐🌐🌐🌐🌐\n",
      "extracted 32 items from 1 page\n",
      "Selecting a random User-Agent...\n",
      "Randomly picked browser: Chrome\n",
      "Randomly picked operating system: Linux\n",
      "🌐🌐🌐🌐🌐🌐🌐🌐🌐🌐\n",
      "User agent:  {'User-Agent': 'Mozilla/5.0 (X11; Linux x86_64) AppleWebKit/537.36 (KHTML, like Gecko) Chrome/94.0.4606.61 Safari/537.36'}\n",
      "Cookies:  {'session-id': '', 'session-id-time': '', 'session-token': ''}\n",
      "url:  https://www.amazon.in/s?k=mobiles&page=2&crid=2CO87KTUUD19F&qid=1718043367&sprefix=mobiles+%2Caps%2C317&ref=sr_pg_2\n",
      "🌐🌐🌐🌐🌐🌐🌐🌐🌐🌐\n",
      "extracted 31 items from 2 page\n",
      "Selecting a random User-Agent...\n",
      "Randomly picked browser: Chrome\n",
      "Randomly picked operating system: Linux\n",
      "🌐🌐🌐🌐🌐🌐🌐🌐🌐🌐\n",
      "User agent:  {'User-Agent': 'Mozilla/5.0 (X11; Linux x86_64) AppleWebKit/537.36 (KHTML, like Gecko) Chrome/94.0.4606.61 Safari/537.36'}\n",
      "Cookies:  {'session-id': '', 'session-id-time': '', 'session-token': ''}\n",
      "url:  https://www.amazon.in/s?k=mobiles&page=4&crid=2CO87KTUUD19F&qid=1718043367&sprefix=mobiles+%2Caps%2C317&ref=sr_pg_2\n",
      "🌐🌐🌐🌐🌐🌐🌐🌐🌐🌐\n",
      "extracted 32 items from 4 page\n",
      "Selecting a random User-Agent...\n",
      "Randomly picked browser: Edge\n",
      "Randomly picked operating system: Mac\n",
      "🌐🌐🌐🌐🌐🌐🌐🌐🌐🌐\n",
      "User agent:  {'User-Agent': 'Mozilla/5.0 (Macintosh; Intel Mac OS X 10_15_7) AppleWebKit/537.36 (KHTML, like Gecko) Chrome/94.0.4606.71 Safari/537.36 Edg/94.0.992.50'}\n",
      "Cookies:  {'session-id': '', 'session-id-time': '', 'session-token': ''}\n",
      "url:  https://www.amazon.in/s?k=mobiles&page=8&crid=2CO87KTUUD19F&qid=1718043367&sprefix=mobiles+%2Caps%2C317&ref=sr_pg_2\n",
      "🌐🌐🌐🌐🌐🌐🌐🌐🌐🌐\n",
      "extracted 32 items from 8 page\n",
      "Selecting a random User-Agent...\n",
      "Randomly picked browser: Edge\n",
      "Randomly picked operating system: Windows\n",
      "🌐🌐🌐🌐🌐🌐🌐🌐🌐🌐\n",
      "User agent:  {'User-Agent': 'Mozilla/5.0 (Windows NT 10.0; Win64; x64) AppleWebKit/537.36 (KHTML, like Gecko) Chrome/94.0.4606.71 Safari/537.36 Edg/94.0.992.50'}\n",
      "Cookies:  {'session-id': '', 'session-id-time': '', 'session-token': ''}\n",
      "url:  https://www.amazon.in/s?k=mobiles&page=16&crid=2CO87KTUUD19F&qid=1718043367&sprefix=mobiles+%2Caps%2C317&ref=sr_pg_2\n",
      "🌐🌐🌐🌐🌐🌐🌐🌐🌐🌐\n",
      "extracted 32 items from 16 page\n",
      "Selecting a random User-Agent...\n",
      "Randomly picked browser: Safari\n",
      "Randomly picked operating system: Mac\n",
      "🌐🌐🌐🌐🌐🌐🌐🌐🌐🌐\n",
      "User agent:  {'User-Agent': 'Mozilla/5.0 (Macintosh; Intel Mac OS X 10_15_7) AppleWebKit/605.1.15 (KHTML, like Gecko) Version/14.1.2 Safari/605.1.15'}\n",
      "Cookies:  {'session-id': '', 'session-id-time': '', 'session-token': ''}\n",
      "url:  https://www.amazon.in/s?k=mobiles&page=32&crid=2CO87KTUUD19F&qid=1718043367&sprefix=mobiles+%2Caps%2C317&ref=sr_pg_2\n",
      "🌐🌐🌐🌐🌐🌐🌐🌐🌐🌐\n"
     ]
    }
   ],
   "source": [
    "from dputils.scrape import Tag, Scraper \n",
    "list_data=[]\n",
    "pages=1\n",
    "\n",
    "while True:\n",
    "    url=f'https://www.amazon.in/s?k=mobiles&page={pages}&crid=2CO87KTUUD19F&qid=1718043367&sprefix=mobiles+%2Caps%2C317&ref=sr_pg_2'\n",
    "    amazon=Scraper(url)\n",
    "    target=Tag(cls='s-main-slot s-result-list s-search-results sg-row')\n",
    "    item=Tag(cls='s-result-item')\n",
    "    title=Tag('h2',cls='a-size-mini a-spacing-none a-color-base s-line-clamp-2')\n",
    "    price =Tag('span',cls='a-price-whole')\n",
    "    results=amazon.get_repeating_page_data(target,item,heading=title,price=price)\n",
    "    if  len(results)== 0:\n",
    "        break\n",
    "    list_data.extend(results)\n",
    "    print(f'extracted {len(results)} items from {pages} page')\n",
    "    pages+=pages\n",
    "\n"
   ]
  },
  {
   "cell_type": "code",
   "execution_count": 99,
   "metadata": {},
   "outputs": [
    {
     "data": {
      "text/html": [
       "<div>\n",
       "<style scoped>\n",
       "    .dataframe tbody tr th:only-of-type {\n",
       "        vertical-align: middle;\n",
       "    }\n",
       "\n",
       "    .dataframe tbody tr th {\n",
       "        vertical-align: top;\n",
       "    }\n",
       "\n",
       "    .dataframe thead th {\n",
       "        text-align: right;\n",
       "    }\n",
       "</style>\n",
       "<table border=\"1\" class=\"dataframe\">\n",
       "  <thead>\n",
       "    <tr style=\"text-align: right;\">\n",
       "      <th></th>\n",
       "      <th>heading</th>\n",
       "      <th>price</th>\n",
       "    </tr>\n",
       "  </thead>\n",
       "  <tbody>\n",
       "    <tr>\n",
       "      <th>0</th>\n",
       "      <td>None</td>\n",
       "      <td>None</td>\n",
       "    </tr>\n",
       "    <tr>\n",
       "      <th>1</th>\n",
       "      <td>None</td>\n",
       "      <td>None</td>\n",
       "    </tr>\n",
       "    <tr>\n",
       "      <th>2</th>\n",
       "      <td>Redmi Note 13 Pro+ (Fusion Purple, 8GB RAM, 25...</td>\n",
       "      <td>30,999</td>\n",
       "    </tr>\n",
       "    <tr>\n",
       "      <th>3</th>\n",
       "      <td>Redmi Note 13 5G (Arctic White, 6GB RAM, 128GB...</td>\n",
       "      <td>16,999</td>\n",
       "    </tr>\n",
       "    <tr>\n",
       "      <th>4</th>\n",
       "      <td>Samsung Galaxy M34 5G (Waterfall Blue,6GB,128G...</td>\n",
       "      <td>12,999</td>\n",
       "    </tr>\n",
       "    <tr>\n",
       "      <th>...</th>\n",
       "      <td>...</td>\n",
       "      <td>...</td>\n",
       "    </tr>\n",
       "    <tr>\n",
       "      <th>154</th>\n",
       "      <td>None</td>\n",
       "      <td>None</td>\n",
       "    </tr>\n",
       "    <tr>\n",
       "      <th>155</th>\n",
       "      <td>None</td>\n",
       "      <td>None</td>\n",
       "    </tr>\n",
       "    <tr>\n",
       "      <th>156</th>\n",
       "      <td>None</td>\n",
       "      <td>None</td>\n",
       "    </tr>\n",
       "    <tr>\n",
       "      <th>157</th>\n",
       "      <td>None</td>\n",
       "      <td>None</td>\n",
       "    </tr>\n",
       "    <tr>\n",
       "      <th>158</th>\n",
       "      <td>None</td>\n",
       "      <td>None</td>\n",
       "    </tr>\n",
       "  </tbody>\n",
       "</table>\n",
       "<p>159 rows × 2 columns</p>\n",
       "</div>"
      ],
      "text/plain": [
       "                                               heading   price\n",
       "0                                                 None    None\n",
       "1                                                 None    None\n",
       "2    Redmi Note 13 Pro+ (Fusion Purple, 8GB RAM, 25...  30,999\n",
       "3    Redmi Note 13 5G (Arctic White, 6GB RAM, 128GB...  16,999\n",
       "4    Samsung Galaxy M34 5G (Waterfall Blue,6GB,128G...  12,999\n",
       "..                                                 ...     ...\n",
       "154                                               None    None\n",
       "155                                               None    None\n",
       "156                                               None    None\n",
       "157                                               None    None\n",
       "158                                               None    None\n",
       "\n",
       "[159 rows x 2 columns]"
      ]
     },
     "execution_count": 99,
     "metadata": {},
     "output_type": "execute_result"
    }
   ],
   "source": [
    "import pandas as pd\n",
    "df=pd.DataFrame(list_data)\n",
    "df"
   ]
  },
  {
   "cell_type": "markdown",
   "metadata": {},
   "source": [
    "CLEANING🤍"
   ]
  },
  {
   "cell_type": "code",
   "execution_count": 100,
   "metadata": {},
   "outputs": [
    {
     "name": "stdout",
     "output_type": "stream",
     "text": [
      "<class 'pandas.core.frame.DataFrame'>\n",
      "RangeIndex: 159 entries, 0 to 158\n",
      "Data columns (total 2 columns):\n",
      " #   Column   Non-Null Count  Dtype \n",
      "---  ------   --------------  ----- \n",
      " 0   heading  110 non-null    object\n",
      " 1   price    109 non-null    object\n",
      "dtypes: object(2)\n",
      "memory usage: 2.6+ KB\n"
     ]
    }
   ],
   "source": [
    "df.info()"
   ]
  },
  {
   "cell_type": "code",
   "execution_count": 101,
   "metadata": {},
   "outputs": [
    {
     "name": "stdout",
     "output_type": "stream",
     "text": [
      "['heading', 'price']\n"
     ]
    }
   ],
   "source": [
    "print(df.columns.tolist())"
   ]
  },
  {
   "cell_type": "code",
   "execution_count": 102,
   "metadata": {},
   "outputs": [],
   "source": [
    "import numpy as np\n",
    "def cleaned_price(price):\n",
    "    if isinstance(price,str):\n",
    "        price=price.replace('₹','').replace(',','')\n",
    "        price=price.strip()\n",
    "        if price.isnumeric():\n",
    "            price=float(price)\n",
    "            return price\n",
    "        if len(price)==0:\n",
    "            return np.nan\n",
    "    return price"
   ]
  },
  {
   "cell_type": "code",
   "execution_count": 103,
   "metadata": {},
   "outputs": [],
   "source": [
    "import numpy as np\n",
    "def cleaned_heading(heading):\n",
    "    if isinstance(heading,str):\n",
    "        heading=heading.replace('None','').replace('none','')           \n",
    "        heading=heading.strip()\n",
    "        if heading.isalpha():\n",
    "            heading=str(heading)\n",
    "            return heading\n",
    "        if len(heading)==0:\n",
    "            return np.nan\n",
    "    return heading"
   ]
  },
  {
   "cell_type": "code",
   "execution_count": 104,
   "metadata": {},
   "outputs": [
    {
     "data": {
      "text/plain": [
       "64999.0"
      ]
     },
     "execution_count": 104,
     "metadata": {},
     "output_type": "execute_result"
    }
   ],
   "source": [
    "cleaned_price('₹64,999')"
   ]
  },
  {
   "cell_type": "code",
   "execution_count": 107,
   "metadata": {},
   "outputs": [
    {
     "data": {
      "text/html": [
       "<div>\n",
       "<style scoped>\n",
       "    .dataframe tbody tr th:only-of-type {\n",
       "        vertical-align: middle;\n",
       "    }\n",
       "\n",
       "    .dataframe tbody tr th {\n",
       "        vertical-align: top;\n",
       "    }\n",
       "\n",
       "    .dataframe thead th {\n",
       "        text-align: right;\n",
       "    }\n",
       "</style>\n",
       "<table border=\"1\" class=\"dataframe\">\n",
       "  <thead>\n",
       "    <tr style=\"text-align: right;\">\n",
       "      <th></th>\n",
       "      <th>new_heading</th>\n",
       "      <th>new_price</th>\n",
       "    </tr>\n",
       "  </thead>\n",
       "  <tbody>\n",
       "    <tr>\n",
       "      <th>0</th>\n",
       "      <td>None</td>\n",
       "      <td>NaN</td>\n",
       "    </tr>\n",
       "    <tr>\n",
       "      <th>1</th>\n",
       "      <td>None</td>\n",
       "      <td>NaN</td>\n",
       "    </tr>\n",
       "    <tr>\n",
       "      <th>2</th>\n",
       "      <td>Redmi Note 13 Pro+ (Fusion Purple, 8GB RAM, 25...</td>\n",
       "      <td>30999.0</td>\n",
       "    </tr>\n",
       "    <tr>\n",
       "      <th>3</th>\n",
       "      <td>Redmi Note 13 5G (Arctic White, 6GB RAM, 128GB...</td>\n",
       "      <td>16999.0</td>\n",
       "    </tr>\n",
       "    <tr>\n",
       "      <th>4</th>\n",
       "      <td>Samsung Galaxy M34 5G (Waterfall Blue,6GB,128G...</td>\n",
       "      <td>12999.0</td>\n",
       "    </tr>\n",
       "    <tr>\n",
       "      <th>...</th>\n",
       "      <td>...</td>\n",
       "      <td>...</td>\n",
       "    </tr>\n",
       "    <tr>\n",
       "      <th>154</th>\n",
       "      <td>None</td>\n",
       "      <td>NaN</td>\n",
       "    </tr>\n",
       "    <tr>\n",
       "      <th>155</th>\n",
       "      <td>None</td>\n",
       "      <td>NaN</td>\n",
       "    </tr>\n",
       "    <tr>\n",
       "      <th>156</th>\n",
       "      <td>None</td>\n",
       "      <td>NaN</td>\n",
       "    </tr>\n",
       "    <tr>\n",
       "      <th>157</th>\n",
       "      <td>None</td>\n",
       "      <td>NaN</td>\n",
       "    </tr>\n",
       "    <tr>\n",
       "      <th>158</th>\n",
       "      <td>None</td>\n",
       "      <td>NaN</td>\n",
       "    </tr>\n",
       "  </tbody>\n",
       "</table>\n",
       "<p>159 rows × 2 columns</p>\n",
       "</div>"
      ],
      "text/plain": [
       "                                           new_heading  new_price\n",
       "0                                                 None        NaN\n",
       "1                                                 None        NaN\n",
       "2    Redmi Note 13 Pro+ (Fusion Purple, 8GB RAM, 25...    30999.0\n",
       "3    Redmi Note 13 5G (Arctic White, 6GB RAM, 128GB...    16999.0\n",
       "4    Samsung Galaxy M34 5G (Waterfall Blue,6GB,128G...    12999.0\n",
       "..                                                 ...        ...\n",
       "154                                               None        NaN\n",
       "155                                               None        NaN\n",
       "156                                               None        NaN\n",
       "157                                               None        NaN\n",
       "158                                               None        NaN\n",
       "\n",
       "[159 rows x 2 columns]"
      ]
     },
     "execution_count": 107,
     "metadata": {},
     "output_type": "execute_result"
    }
   ],
   "source": [
    "df.drop(columns=['heading'],inplace=True)\n",
    "df.drop(columns=['price'],inplace=True)\n",
    "df"
   ]
  },
  {
   "cell_type": "code",
   "execution_count": 113,
   "metadata": {},
   "outputs": [
    {
     "data": {
      "text/plain": [
       "[None,\n",
       " None,\n",
       " \"Redmi Note 13 Pro+ (Fusion Purple, 8GB RAM, 256GB Storage) | World's First Mediatek 7200 Ultra 5G | 200MP Hi-Res Camera | 1.5K Curved AMOLED | 120W HyperCharge\",\n",
       " 'Redmi Note 13 5G (Arctic White, 6GB RAM, 128GB Storage) | 5G Ready | 120Hz Bezel-Less AMOLED | 7.mm Slimmest Note Ever | 108MP Pro-Grade Camera',\n",
       " 'Samsung Galaxy M34 5G (Waterfall Blue,6GB,128GB)|120Hz sAMOLED Display|50MP Triple No Shake Cam|6000 mAh Battery|4 Gen OS Upgrade & 5 Year Security Update|12GB RAM with RAM+|Android 13|Without Charger',\n",
       " 'Redmi 13C (Stardust Black, 6GB RAM, 128GB Storage) | Powered by 4G MediaTek Helio G85 | 90Hz Display | 50MP AI Triple Camera',\n",
       " \"Samsung Galaxy M14 5G (Berry Blue,4GB,128GB)|50MP Triple Cam|Segment's Only 6000 mAh 5G SP|5nm Processor|2 Gen. OS Upgrade & 4 Year Security Update|8GB RAM with RAM Plus|Android 13|Without Charger\",\n",
       " None,\n",
       " None,\n",
       " 'realme NARZO 70x 5G (Ice Blue, 6GB RAM,128GB Storage)|120Hz Ultra Smooth Display|Dimensity 6100+ 6nm 5G|50MP AI Camera|45W Charger in The Box',\n",
       " \"realme NARZO N65 5G (Deep Green 6GB RAM, 128GB Storage) India's 1st D6300 5G Chipset | Ultra Slim Design | 120Hz Eye Comfort Display | 50MP AI Camera| Charger in The Box\",\n",
       " 'Samsung Galaxy M34 5G (Prism Silver,6GB,128GB)|120Hz sAMOLED Display|50MP Triple No Shake Cam|6000 mAh Battery|4 Gen OS Upgrade & 5 Year Security Update|12GB RAM with RAM+|Android 13|Without Charger',\n",
       " 'Samsung Galaxy M34 5G (Midnight Blue,6GB,128GB)|120Hz sAMOLED Display|50MP Triple No Shake Cam|6000 mAh Battery|4 Gen OS Upgrade & 5 Year Security Update|12GB RAM with RAM+|Android 13|Without Charger',\n",
       " \"iQOO Z7 Pro 5G (Blue Lagoon, 8GB RAM, 256GB Storage) | 3D Curved AMOLED Display | 4nm MediaTek Dimesity 7200 5G Processor | 64MP Aura Light OIS Camera | Segment's Slimmest & Lightest Smartphone\",\n",
       " 'Redmi Note 13 Pro (Coral Purple, 8GB RAM, 128GB Storage) | 1.5K AMOLED | 200MP Hi-Res Camera | Flagship 4nm SD 7s Gen 2 | 67W TurboCharge',\n",
       " 'Lava O2 (Majestic Purple, 8GB RAM, UFS 2.2 128GB Storage) |AG Glass Back|T616 Octacore Processor|18W Fast Charging|6.5 inch 90Hz Punch Hole Display|50MP AI Dual Camera|Upto 16GB Expandable RAM',\n",
       " 'POCO C65 Pastel Green 4GB RAM 128GB ROM',\n",
       " 'Redmi 13C (Starshine Green, 4GB RAM, 128GB Storage) | Powered by 4G MediaTek Helio G85 | 90Hz Display | 50MP AI Triple Camera',\n",
       " 'POCO M6 5G (Galactic Black,6GB RAM, 128GB Storage)',\n",
       " 'Oneplus Nord CE 3 5G (Grey Shimmer, 8GB RAM, 128GB Storage)',\n",
       " 'Redmi 13C (Starfrost White, 4GB RAM, 128GB Storage) | Powered by 4G MediaTek Helio G85 | 90Hz Display | 50MP AI Triple Camera',\n",
       " \"Samsung Galaxy M14 5G (ICY Silver,6GB,128GB)|50MP Triple Cam|Segment's Only 6000 mAh 5G SP|5nm Processor|2 Gen. OS Upgrade & 4 Year Security Update|12GB RAM with RAM Plus|Android 13|Without Charger\",\n",
       " 'POCO C65 Pastel Blue 4GB RAM 128GB ROM',\n",
       " 'Redmi 12 5G Moonstone Silver 6GB RAM 128GB ROM',\n",
       " 'Redmi 13C 5G (Startrail Green, 4GB RAM, 128GB Storage) | MediaTek Dimensity 6100+ 5G | 90Hz Display',\n",
       " 'Redmi 13C (Starshine Green, 4GB RAM, 128GB Storage) | Powered by 4G MediaTek Helio G85 | 90Hz Display | 50MP AI Triple Camera',\n",
       " None,\n",
       " None,\n",
       " None,\n",
       " None,\n",
       " None,\n",
       " None,\n",
       " None,\n",
       " None,\n",
       " 'Redmi Note 13 5G (Arctic White, 6GB RAM, 128GB Storage) | 5G Ready | 120Hz Bezel-Less AMOLED | 7.mm Slimmest Note Ever | 108MP Pro-Grade Camera',\n",
       " 'Redmi Note 13 Pro (Coral Purple, 8GB RAM, 128GB Storage) | 1.5K AMOLED | 200MP Hi-Res Camera | Flagship 4nm SD 7s Gen 2 | 67W TurboCharge',\n",
       " 'Samsung Galaxy M34 5G (Prism Silver,6GB,128GB)|120Hz sAMOLED Display|50MP Triple No Shake Cam|6000 mAh Battery|4 Gen OS Upgrade & 5 Year Security Update|12GB RAM with RAM+|Android 13|Without Charger',\n",
       " 'OnePlus 11R 5G (Sonic Black, 8GB RAM, 128GB Storage)',\n",
       " 'IKALL K510 Smartphone (2GB Ram, 32GB) (Gold)',\n",
       " None,\n",
       " None,\n",
       " 'POCO C65 Matte Black 4GB RAM 128GB ROM',\n",
       " 'Oneplus Nord CE4 (Dark Chrome, 8GB RAM, 256GB Storage)',\n",
       " 'Vivo T2x 5G (Marine Blue, 128 GB) (6 GB RAM)',\n",
       " 'realme narzo N53 (Feather Gold, 4GB+64GB) 33W Segment Fastest Charging | Slim Smartphone | 90 Hz Smooth Display',\n",
       " 'Redmi 13C (Starshine Green, 6GB RAM, 128GB Storage) | Powered by 4G MediaTek Helio G85 | 90Hz Display | 50MP AI Triple Camera',\n",
       " \"Redmi Note 13 Pro+ (Fusion Black, 8GB RAM, 256GB Storage) | World's First Mediatek 7200 Ultra 5G | 200MP Hi-Res Camera | 1.5K Curved AMOLED | 120W HyperCharge\",\n",
       " 'Lava O2 (Imperial Green, 8GB RAM, UFS 2.2 128GB Storage) |AG Glass Back|T616 Octacore Processor|18W Fast Charging|6.5 inch 90Hz Punch Hole Display|50MP AI Dual Camera|Upto 16GB Expandable RAM',\n",
       " 'Redmi 13C 5G (Startrail Green, 4GB RAM, 128GB Storage) | MediaTek Dimensity 6100+ 5G | 90Hz Display',\n",
       " 'Vivo Y27 (Burgundy Black, 6GB RAM, 128GB Storage) with No Cost EMI/Additional Exchange Offers',\n",
       " 'iQOO Z9x 5G (Tornado Green, 6GB RAM, 128GB Storage) | Snapdragon 6 Gen 1 with 560K+ AnTuTu Score | 6000 mAh Battery with 7.99mm Slim Design | 44W FlashCharge',\n",
       " 'Redmi 12 5G Pastel Blue 8GB RAM 256GB ROM',\n",
       " 'Redmi 13C 5G (Starlight Black, 4GB RAM, 128GB Storage) | MediaTek Dimensity 6100+ 5G | 90Hz Display',\n",
       " 'POCO C65 Pastel Blue 8GB RAM 256GB ROM',\n",
       " 'POCO M6 Pro 5G (Forest Green, 6GB RAM, 128GB Storage)',\n",
       " \"realme NARZO N65 5G (Deep Green 4GB RAM, 128GB Storage) India's 1st D6300 5G Chipset | Ultra Slim 190g Design | 120Hz Eye Comfort Display | 50MP AI Camera| Charger in The Box\",\n",
       " 'Redmi 13C (Starshine Green, 4GB RAM, 128GB Storage) | Powered by 4G MediaTek Helio G85 | 90Hz Display | 50MP AI Triple Camera',\n",
       " 'Redmi 13C 5G (Startrail Green, 4GB RAM, 128GB Storage) | MediaTek Dimensity 6100+ 5G | 90Hz Display',\n",
       " None,\n",
       " None,\n",
       " None,\n",
       " None,\n",
       " None,\n",
       " None,\n",
       " None,\n",
       " 'Redmi Note 13 Pro (Arctic White, 8GB RAM, 128GB Storage) | 1.5K AMOLED | 200MP Hi-Res Camera | Flagship 4nm SD 7s Gen 2 | 67W TurboCharge',\n",
       " 'Redmi Note 13 5G (Stealth Black, 6GB RAM, 128GB Storage) | 5G Ready | 120Hz Bezel-Less AMOLED | 7.mm Slimmest Note Ever | 108MP Pro-Grade Camera',\n",
       " 'Oneplus Nord CE4 (Celadon Marble, 8GB RAM, 128GB Storage)',\n",
       " 'OnePlus Nord 3 5G (Misty Green, 8GB RAM, 128GB Storage)',\n",
       " \"Lava Agni 2 5G (Glass Viridian, 8GB RAM, 256GB Storage) | India's First Dimensity 7050 Processor | 120 Hz Curved Amoled Display | 13 5G Bands | Superfast 66W Charging | Clean Android\",\n",
       " None,\n",
       " None,\n",
       " \"Samsung Galaxy M14 5G (Smoky Teal,4GB,128GB)|50MP Triple Cam|Segment's Only 6000 mAh 5G SP|5nm Processor|2 Gen. OS Upgrade & 4 Year Security Update|8GB RAM with RAM Plus|Android 13|Without Charger\",\n",
       " \"Samsung Galaxy M14 5G (Smoky Teal,6GB,128GB)|50MP Triple Cam|Segment's Only 6000 mAh 5G SP|5nm Processor|2 Gen. OS Upgrade & 4 Year Security Update|12GB RAM with RAM Plus|Android 13|Without Charger\",\n",
       " 'POCO M6 Pro 5G (Forest Green, 6GB RAM, 128GB Storage)',\n",
       " 'OnePlus 12R (Iron Gray, 16GB RAM, 256GB Storage)',\n",
       " 'iQOO Z9 5G (Graphene Blue, 8GB RAM, 128GB Storage) | Dimensity 7200 5G Processor | Sony IMX882 OIS Camera | 120Hz AMOLED with 1800 nits Local Peak Brightness | 44W Charger in The Box',\n",
       " 'Lava O2 (Imperial Green, 8GB RAM, UFS 2.2 128GB Storage) |AG Glass Back|T616 Octacore Processor|18W Fast Charging|6.5 inch 90Hz Punch Hole Display|50MP AI Dual Camera|Upto 16GB Expandable RAM',\n",
       " 'Redmi 13C (Starshine Green, 4GB RAM, 128GB Storage) | Powered by 4G MediaTek Helio G85 | 90Hz Display | 50MP AI Triple Camera',\n",
       " 'OnePlus Nord CE 3 Lite 5G (Chromatic Gray, 8GB RAM, 256GB Storage)',\n",
       " 'POCO C65 Pastel Blue 6GB RAM 128GB ROM',\n",
       " 'TECNO POP 8 (Gravity Black,(8GB*+64GB)| 90Hz Punch Hole Display with Dynamic Port & Dual Speakers with DTS| 5000mAh Battery |10W Type-C| Side Fingerprint Sensor| Octa-Core Processor',\n",
       " 'realme narzo N55 (Prime Black, 6GB+128GB) 33W Segment Fastest Charging | Super High-res 64MP Primary AI Camera',\n",
       " 'POCO X6 5G Snowstorm White, 12 GB RAM 512 GB ROM',\n",
       " 'Nokia G42 5G Powered by Snapdragon® 480 Plus 5G | 50MP Triple Rear AI Camera | 6GB RAM (4GB RAM + 2GB Virtual RAM) | 128GB Storage | 3-Day Battery Life | 2 Years of Android Upgrades | SO Grey',\n",
       " 'OnePlus 12R (Iron Gray, 8GB RAM, 128GB Storage)',\n",
       " 'OnePlus Nord CE 3 5G (Aqua Surge, 8GB RAM, 128GB Storage)',\n",
       " \"Redmi Note 13 Pro+ (Fusion White, 8GB RAM, 256GB Storage) | World's First Mediatek 7200 Ultra 5G | 200MP Hi-Res Camera | 1.5K Curved AMOLED | 120W HyperCharge\",\n",
       " 'Redmi 13C 5G (Startrail Green, 4GB RAM, 128GB Storage) | MediaTek Dimensity 6100+ 5G | 90Hz Display',\n",
       " None,\n",
       " None,\n",
       " None,\n",
       " None,\n",
       " None,\n",
       " None,\n",
       " None,\n",
       " None,\n",
       " 'Redmi Note 13 5G (Stealth Black, 6GB RAM, 128GB Storage) | 5G Ready | 120Hz Bezel-Less AMOLED | 7.mm Slimmest Note Ever | 108MP Pro-Grade Camera',\n",
       " 'Redmi Note 13 Pro (Arctic White, 8GB RAM, 128GB Storage) | 1.5K AMOLED | 200MP Hi-Res Camera | Flagship 4nm SD 7s Gen 2 | 67W TurboCharge',\n",
       " 'iQOO Z9x 5G (Storm Grey, 6GB RAM, 128GB Storage) | Snapdragon 6 Gen 1 with 560K+ AnTuTu Score | 6000 mAh Battery with 7.99mm Slim Design | 44W FlashCharge',\n",
       " 'Samsung Galaxy M15 5G (Blue Topaz,8GB RAM,128GB Storage)| 50MP Triple Cam| 6000mAh Battery| MediaTek Dimensity 6100+| 4 Gen. OS Upgrade & 5 Year Security Update| Super AMOLED Display| Without Charger',\n",
       " 'OnePlus 11R 5G (Galactic Silver, 16GB RAM, 256GB Storage)',\n",
       " None,\n",
       " None,\n",
       " 'realme narzo N53 (Feather Black, 4GB+64GB) 33W Segment Fastest Charging | Slim Smartphone | 90 Hz Smooth Display',\n",
       " 'Motorola G84 5G (Midnight Blue, 12GB RAM, 256GB Storage) | 50MP (OIS) | 16MP Front Camera | Snapdragon 695 Processor | Ultra Premium Vegan Leather Design | Unbelievable 5G Speeds with 14 5G Bands',\n",
       " 'Oppo A79 5G (Mystery Black, 8GB RAM, 128GB Storage) | 5000 mAh Battery with 33W SUPERVOOC Charger | 50MP AI Rear Camera | 6.72\" FHD+ 90Hz Display | with No Cost EMI/Additional Exchange Offers',\n",
       " 'Redmi 13C (Starfrost White, 6GB RAM, 128GB Storage) | Powered by 4G MediaTek Helio G85 | 90Hz Display | 50MP AI Triple Camera',\n",
       " 'POCO X6 Pro 5G Spectre Black 12GB RAM 512GB ROM',\n",
       " 'Redmi 13C 5G (Startrail Green, 4GB RAM, 128GB Storage) | MediaTek Dimensity 6100+ 5G | 90Hz Display',\n",
       " \"Redmi Note 13 Pro+ (Fusion White, 8GB RAM, 256GB Storage) | World's First Mediatek 7200 Ultra 5G | 200MP Hi-Res Camera | 1.5K Curved AMOLED | 120W HyperCharge\",\n",
       " 'OPPO A59 5G (Starry Black, 6GB RAM, 128GB Storage) | 5000 mAh Battery with 33W SUPERVOOC Charger | 6.56\" HD+ 90Hz Display | with No Cost EMI/Additional Exchange Offers',\n",
       " \"realme GT 6T 5G (Razor Green,12GB RAM+512GB Storage) | India's 1st 7+ Gen 3 Flagship Chipset | 1.5M+AnTuTu Score | 5500mAh+120W | The World's Brightest Flagship Display\",\n",
       " 'Redmi 13C 5G (Startrail Green,6GB RAM, 128GB Storage) | MediaTek Dimensity 6100+ 5G | 90Hz Display',\n",
       " \"iQOO 12 5G (Desert Red, 12GB RAM, 256GB Storage) |India's 1st Snapdragon® 8 Gen 3 Mobile Platform | India's only Flagship with 50MP + 50MP + 64MP Camera\",\n",
       " 'iQOO Z9 5G (Graphene Blue, 8GB RAM, 256GB Storage) | Dimensity 7200 5G Processor | Sony IMX882 OIS Camera | 120Hz AMOLED with 1800 nits Local Peak Brightness | 44W Charger in The Box',\n",
       " 'Vivo Y200 5G Mobile (Jungle Green, 8GB RAM, 256GB Storage) with No Cost EMI/Additional Exchange Offers',\n",
       " 'OnePlus 12 (Flowy Emerald, 16GB RAM, 512GB Storage)',\n",
       " 'Oppo Reno 11 5G (Wave Green,128 GB) (8 GB RAM)',\n",
       " 'Redmi 13C (Starshine Green, 4GB RAM, 128GB Storage) | Powered by 4G MediaTek Helio G85 | 90Hz Display | 50MP AI Triple Camera',\n",
       " 'Lava O2 (Imperial Green, 8GB RAM, UFS 2.2 128GB Storage) |AG Glass Back|T616 Octacore Processor|18W Fast Charging|6.5 inch 90Hz Punch Hole Display|50MP AI Dual Camera|Upto 16GB Expandable RAM',\n",
       " None,\n",
       " None,\n",
       " None,\n",
       " None,\n",
       " None,\n",
       " None,\n",
       " None,\n",
       " None,\n",
       " 'Redmi Note 13 5G (Stealth Black, 6GB RAM, 128GB Storage) | 5G Ready | 120Hz Bezel-Less AMOLED | 7.mm Slimmest Note Ever | 108MP Pro-Grade Camera',\n",
       " 'Redmi Note 13 Pro (Coral Purple, 8GB RAM, 128GB Storage) | 1.5K AMOLED | 200MP Hi-Res Camera | Flagship 4nm SD 7s Gen 2 | 67W TurboCharge',\n",
       " 'Oppo F25 Pro 5G (Coral Purple, 8GB RAM, 128GB Storage) | with No Cost EMI/Additional Exchange Offers',\n",
       " 'Samsung Galaxy A15 5G (Blue, 8GB, 256GB Storage) | 50 MP Main Camera | Android 14 with One UI 6.0 | 16GB Expandable RAM | MediaTek Dimensity 6100+ | 5000 mAh Battery',\n",
       " 'Redmi A3 (Lake Blue, 4GB RAM, 128GB Storage) | Premium Halo Design | 90Hz Display | Powerful 4G G36 Processor',\n",
       " None,\n",
       " None,\n",
       " 'vivo Y100A 5G (Twilight Gold, 8GB RAM, 128GB Storage) with No Cost EMI/Additional Exchange Offers',\n",
       " \"realme GT 6T 5G (Fluid Silver,8GB RAM+128GB Storage) | India's 1st 7+ Gen 3 Flagship Chipset | 1.5M+AnTuTu Score | 5500mAh+120W | The World's Brightest Flagship Display\",\n",
       " 'Micromax in 2B (Blue, 4GB RAM, 64GB Storage)',\n",
       " 'Realme C55 (Rainy Night, 6GB RAM 64GB Storage)',\n",
       " 'realme NARZO 70 Pro 5G (Glass Gold, 8GB RAM,256GB Storage) Dimensity 7050 5G Chipset | Horizon Glass Design | Segment 1st Flagship Sony IMX890 OIS Camera',\n",
       " \"Redmi Note 13 Pro+ (Fusion White, 8GB RAM, 256GB Storage) | World's First Mediatek 7200 Ultra 5G | 200MP Hi-Res Camera | 1.5K Curved AMOLED | 120W HyperCharge\",\n",
       " '7SEVEN® Suitable for Xiaomi mi 12 pro 5g tempered glass screen protector guard with edge-to-edge full glue mobile screen Protector from anti scratch',\n",
       " 'TECNO Phantom V Fold 5G Black (12GB RAM,256GB Storage) | The First Full Size Fold | LTPO AMOLED Display | 4nm D9000+ Fast Processor',\n",
       " 'Apple iPhone 15 Plus (128 GB) - Green',\n",
       " 'itel A70 (4GB RAM, 128GB ROM) Upto 12GB RAM with Memory Fusion | 13MP Dual Rear Camera & 8MP Front Camera | 5000mAh with Type-C | Dynamic Bar | Side Fingerprint | Octa-Core Processor | Azure Blue',\n",
       " 'TECNO POVA 6 PRO 5G (24GB*+256GB) | 108MP Camera + 32MP Selfie Camera | 120Hz Dot-in AMOLED Display | Dual Speakers with Dolby Atmos | 6000mAh & 70W Charger | Arc Interface | Meteorite Grey',\n",
       " 'TECNO CAMON 30 5G (16GB*+256GB) | 100MP OIS Mode + 50MP Auto Focus Selfie | 6.78\" LTPS AMOLED Display | MediaTek Dimensity 7020 | 5000mAh Battery & 33W Charger | Basaltic Dark',\n",
       " 'realme NARZO 70 5G（Ice Blue,6GB RAM, 128GB Storage | Dimensity 7050 5G Chipset | 120Hz AMOLED Display | 50MP Primary Camera | 45W Charger in The Box',\n",
       " 'realme narzo N53 (Feather Black, 6GB+128GB) 33W Segment Fastest Charging | Slim Smartphone | 90 Hz Smooth Display',\n",
       " 'OnePlus 12R (Iron Gray, 8GB RAM, 256GB Storage)',\n",
       " 'Lava O2 (Majestic Purple, 8GB RAM, UFS 2.2 128GB Storage) |AG Glass Back|T616 Octacore Processor|18W Fast Charging|6.5 inch 90Hz Punch Hole Display|50MP AI Dual Camera|Upto 16GB Expandable RAM',\n",
       " 'Redmi 13C 5G (Startrail Green, 8GB RAM, 256GB Storage) | MediaTek Dimensity 6100+ 5G | 90Hz Display',\n",
       " None,\n",
       " None,\n",
       " None,\n",
       " None,\n",
       " None,\n",
       " None]"
      ]
     },
     "execution_count": 113,
     "metadata": {},
     "output_type": "execute_result"
    }
   ],
   "source": [
    "df.new_heading.to_list()"
   ]
  },
  {
   "cell_type": "code",
   "execution_count": 108,
   "metadata": {},
   "outputs": [
    {
     "data": {
      "text/html": [
       "<div>\n",
       "<style scoped>\n",
       "    .dataframe tbody tr th:only-of-type {\n",
       "        vertical-align: middle;\n",
       "    }\n",
       "\n",
       "    .dataframe tbody tr th {\n",
       "        vertical-align: top;\n",
       "    }\n",
       "\n",
       "    .dataframe thead th {\n",
       "        text-align: right;\n",
       "    }\n",
       "</style>\n",
       "<table border=\"1\" class=\"dataframe\">\n",
       "  <thead>\n",
       "    <tr style=\"text-align: right;\">\n",
       "      <th></th>\n",
       "      <th>new_heading</th>\n",
       "      <th>new_price</th>\n",
       "    </tr>\n",
       "  </thead>\n",
       "  <tbody>\n",
       "    <tr>\n",
       "      <th>2</th>\n",
       "      <td>Redmi Note 13 Pro+ (Fusion Purple, 8GB RAM, 25...</td>\n",
       "      <td>30999.0</td>\n",
       "    </tr>\n",
       "    <tr>\n",
       "      <th>3</th>\n",
       "      <td>Redmi Note 13 5G (Arctic White, 6GB RAM, 128GB...</td>\n",
       "      <td>16999.0</td>\n",
       "    </tr>\n",
       "    <tr>\n",
       "      <th>4</th>\n",
       "      <td>Samsung Galaxy M34 5G (Waterfall Blue,6GB,128G...</td>\n",
       "      <td>12999.0</td>\n",
       "    </tr>\n",
       "    <tr>\n",
       "      <th>5</th>\n",
       "      <td>Redmi 13C (Stardust Black, 6GB RAM, 128GB Stor...</td>\n",
       "      <td>8499.0</td>\n",
       "    </tr>\n",
       "    <tr>\n",
       "      <th>6</th>\n",
       "      <td>Samsung Galaxy M14 5G (Berry Blue,4GB,128GB)|5...</td>\n",
       "      <td>9490.0</td>\n",
       "    </tr>\n",
       "    <tr>\n",
       "      <th>...</th>\n",
       "      <td>...</td>\n",
       "      <td>...</td>\n",
       "    </tr>\n",
       "    <tr>\n",
       "      <th>148</th>\n",
       "      <td>realme NARZO 70 5G（Ice Blue,6GB RAM, 128GB Sto...</td>\n",
       "      <td>15999.0</td>\n",
       "    </tr>\n",
       "    <tr>\n",
       "      <th>149</th>\n",
       "      <td>realme narzo N53 (Feather Black, 6GB+128GB) 33...</td>\n",
       "      <td>12999.0</td>\n",
       "    </tr>\n",
       "    <tr>\n",
       "      <th>150</th>\n",
       "      <td>OnePlus 12R (Iron Gray, 8GB RAM, 256GB Storage)</td>\n",
       "      <td>42999.0</td>\n",
       "    </tr>\n",
       "    <tr>\n",
       "      <th>151</th>\n",
       "      <td>Lava O2 (Majestic Purple, 8GB RAM, UFS 2.2 128...</td>\n",
       "      <td>7999.0</td>\n",
       "    </tr>\n",
       "    <tr>\n",
       "      <th>152</th>\n",
       "      <td>Redmi 13C 5G (Startrail Green, 8GB RAM, 256GB ...</td>\n",
       "      <td>13999.0</td>\n",
       "    </tr>\n",
       "  </tbody>\n",
       "</table>\n",
       "<p>104 rows × 2 columns</p>\n",
       "</div>"
      ],
      "text/plain": [
       "                                           new_heading  new_price\n",
       "2    Redmi Note 13 Pro+ (Fusion Purple, 8GB RAM, 25...    30999.0\n",
       "3    Redmi Note 13 5G (Arctic White, 6GB RAM, 128GB...    16999.0\n",
       "4    Samsung Galaxy M34 5G (Waterfall Blue,6GB,128G...    12999.0\n",
       "5    Redmi 13C (Stardust Black, 6GB RAM, 128GB Stor...     8499.0\n",
       "6    Samsung Galaxy M14 5G (Berry Blue,4GB,128GB)|5...     9490.0\n",
       "..                                                 ...        ...\n",
       "148  realme NARZO 70 5G（Ice Blue,6GB RAM, 128GB Sto...    15999.0\n",
       "149  realme narzo N53 (Feather Black, 6GB+128GB) 33...    12999.0\n",
       "150    OnePlus 12R (Iron Gray, 8GB RAM, 256GB Storage)    42999.0\n",
       "151  Lava O2 (Majestic Purple, 8GB RAM, UFS 2.2 128...     7999.0\n",
       "152  Redmi 13C 5G (Startrail Green, 8GB RAM, 256GB ...    13999.0\n",
       "\n",
       "[104 rows x 2 columns]"
      ]
     },
     "execution_count": 108,
     "metadata": {},
     "output_type": "execute_result"
    }
   ],
   "source": [
    "df.dropna()"
   ]
  },
  {
   "cell_type": "code",
   "execution_count": 109,
   "metadata": {},
   "outputs": [
    {
     "data": {
      "application/vnd.plotly.v1+json": {
       "config": {
        "plotlyServerURL": "https://plot.ly"
       },
       "data": [
        {
         "alignmentgroup": "True",
         "hovertemplate": "Class=%{marker.color}<br>index=%{y}<extra></extra>",
         "legendgroup": "",
         "marker": {
          "color": [
           null,
           null,
           30999,
           16999,
           12999,
           8499,
           9490,
           10499,
           null,
           13499,
           12499,
           12999,
           12999,
           23999,
           24999,
           7999,
           6799,
           7699,
           9999,
           22999,
           7699,
           12490,
           6799,
           12499,
           10499,
           7699,
           1599,
           null,
           null,
           null,
           null,
           null,
           null,
           null,
           16999,
           24999,
           12999,
           27999,
           4499,
           null,
           null,
           6799,
           26999,
           null,
           8999,
           8499,
           30999,
           7999,
           10499,
           10999,
           14499,
           13999,
           10499,
           8499,
           null,
           11499,
           7699,
           10499,
           null,
           null,
           null,
           null,
           null,
           null,
           null,
           24999,
           16999,
           24999,
           19999,
           16999,
           null,
           null,
           9790,
           12490,
           null,
           45999,
           19999,
           7999,
           7699,
           null,
           7499,
           6899,
           10593,
           21999,
           9999,
           39998,
           22999,
           30999,
           10499,
           1599,
           null,
           null,
           null,
           null,
           null,
           null,
           null,
           16999,
           24999,
           14499,
           15999,
           32999,
           null,
           null,
           8999,
           null,
           17499,
           8499,
           26499,
           10499,
           30999,
           15499,
           39999,
           11999,
           52999,
           21999,
           22999,
           69998,
           26999,
           7699,
           7999,
           1599,
           null,
           null,
           null,
           null,
           null,
           null,
           null,
           16999,
           24999,
           23999,
           22499,
           7999,
           null,
           null,
           18945,
           30999,
           6199,
           null,
           21999,
           30999,
           499,
           69999,
           82600,
           6799,
           21999,
           22999,
           15999,
           12999,
           42999,
           7999,
           13999,
           899,
           null,
           null,
           null,
           null,
           null
          ],
          "coloraxis": "coloraxis",
          "pattern": {
           "shape": ""
          }
         },
         "name": "",
         "offsetgroup": "",
         "orientation": "h",
         "showlegend": false,
         "textposition": "auto",
         "type": "bar",
         "x": [
          null,
          null,
          30999,
          16999,
          12999,
          8499,
          9490,
          10499,
          null,
          13499,
          12499,
          12999,
          12999,
          23999,
          24999,
          7999,
          6799,
          7699,
          9999,
          22999,
          7699,
          12490,
          6799,
          12499,
          10499,
          7699,
          1599,
          null,
          null,
          null,
          null,
          null,
          null,
          null,
          16999,
          24999,
          12999,
          27999,
          4499,
          null,
          null,
          6799,
          26999,
          null,
          8999,
          8499,
          30999,
          7999,
          10499,
          10999,
          14499,
          13999,
          10499,
          8499,
          null,
          11499,
          7699,
          10499,
          null,
          null,
          null,
          null,
          null,
          null,
          null,
          24999,
          16999,
          24999,
          19999,
          16999,
          null,
          null,
          9790,
          12490,
          null,
          45999,
          19999,
          7999,
          7699,
          null,
          7499,
          6899,
          10593,
          21999,
          9999,
          39998,
          22999,
          30999,
          10499,
          1599,
          null,
          null,
          null,
          null,
          null,
          null,
          null,
          16999,
          24999,
          14499,
          15999,
          32999,
          null,
          null,
          8999,
          null,
          17499,
          8499,
          26499,
          10499,
          30999,
          15499,
          39999,
          11999,
          52999,
          21999,
          22999,
          69998,
          26999,
          7699,
          7999,
          1599,
          null,
          null,
          null,
          null,
          null,
          null,
          null,
          16999,
          24999,
          23999,
          22499,
          7999,
          null,
          null,
          18945,
          30999,
          6199,
          null,
          21999,
          30999,
          499,
          69999,
          82600,
          6799,
          21999,
          22999,
          15999,
          12999,
          42999,
          7999,
          13999,
          899,
          null,
          null,
          null,
          null,
          null
         ],
         "xaxis": "x",
         "y": [
          0,
          1,
          2,
          3,
          4,
          5,
          6,
          7,
          8,
          9,
          10,
          11,
          12,
          13,
          14,
          15,
          16,
          17,
          18,
          19,
          20,
          21,
          22,
          23,
          24,
          25,
          26,
          27,
          28,
          29,
          30,
          31,
          32,
          33,
          34,
          35,
          36,
          37,
          38,
          39,
          40,
          41,
          42,
          43,
          44,
          45,
          46,
          47,
          48,
          49,
          50,
          51,
          52,
          53,
          54,
          55,
          56,
          57,
          58,
          59,
          60,
          61,
          62,
          63,
          64,
          65,
          66,
          67,
          68,
          69,
          70,
          71,
          72,
          73,
          74,
          75,
          76,
          77,
          78,
          79,
          80,
          81,
          82,
          83,
          84,
          85,
          86,
          87,
          88,
          89,
          90,
          91,
          92,
          93,
          94,
          95,
          96,
          97,
          98,
          99,
          100,
          101,
          102,
          103,
          104,
          105,
          106,
          107,
          108,
          109,
          110,
          111,
          112,
          113,
          114,
          115,
          116,
          117,
          118,
          119,
          120,
          121,
          122,
          123,
          124,
          125,
          126,
          127,
          128,
          129,
          130,
          131,
          132,
          133,
          134,
          135,
          136,
          137,
          138,
          139,
          140,
          141,
          142,
          143,
          144,
          145,
          146,
          147,
          148,
          149,
          150,
          151,
          152,
          153,
          154,
          155,
          156,
          157,
          158
         ],
         "yaxis": "y"
        }
       ],
       "layout": {
        "barmode": "relative",
        "coloraxis": {
         "colorbar": {
          "title": {
           "text": "Class"
          }
         },
         "colorscale": [
          [
           0,
           "#0d0887"
          ],
          [
           0.1111111111111111,
           "#46039f"
          ],
          [
           0.2222222222222222,
           "#7201a8"
          ],
          [
           0.3333333333333333,
           "#9c179e"
          ],
          [
           0.4444444444444444,
           "#bd3786"
          ],
          [
           0.5555555555555556,
           "#d8576b"
          ],
          [
           0.6666666666666666,
           "#ed7953"
          ],
          [
           0.7777777777777778,
           "#fb9f3a"
          ],
          [
           0.8888888888888888,
           "#fdca26"
          ],
          [
           1,
           "#f0f921"
          ]
         ]
        },
        "height": 400,
        "legend": {
         "tracegroupgap": 0
        },
        "template": {
         "data": {
          "bar": [
           {
            "error_x": {
             "color": "#f2f5fa"
            },
            "error_y": {
             "color": "#f2f5fa"
            },
            "marker": {
             "line": {
              "color": "rgb(17,17,17)",
              "width": 0.5
             },
             "pattern": {
              "fillmode": "overlay",
              "size": 10,
              "solidity": 0.2
             }
            },
            "type": "bar"
           }
          ],
          "barpolar": [
           {
            "marker": {
             "line": {
              "color": "rgb(17,17,17)",
              "width": 0.5
             },
             "pattern": {
              "fillmode": "overlay",
              "size": 10,
              "solidity": 0.2
             }
            },
            "type": "barpolar"
           }
          ],
          "carpet": [
           {
            "aaxis": {
             "endlinecolor": "#A2B1C6",
             "gridcolor": "#506784",
             "linecolor": "#506784",
             "minorgridcolor": "#506784",
             "startlinecolor": "#A2B1C6"
            },
            "baxis": {
             "endlinecolor": "#A2B1C6",
             "gridcolor": "#506784",
             "linecolor": "#506784",
             "minorgridcolor": "#506784",
             "startlinecolor": "#A2B1C6"
            },
            "type": "carpet"
           }
          ],
          "choropleth": [
           {
            "colorbar": {
             "outlinewidth": 0,
             "ticks": ""
            },
            "type": "choropleth"
           }
          ],
          "contour": [
           {
            "colorbar": {
             "outlinewidth": 0,
             "ticks": ""
            },
            "colorscale": [
             [
              0,
              "#0d0887"
             ],
             [
              0.1111111111111111,
              "#46039f"
             ],
             [
              0.2222222222222222,
              "#7201a8"
             ],
             [
              0.3333333333333333,
              "#9c179e"
             ],
             [
              0.4444444444444444,
              "#bd3786"
             ],
             [
              0.5555555555555556,
              "#d8576b"
             ],
             [
              0.6666666666666666,
              "#ed7953"
             ],
             [
              0.7777777777777778,
              "#fb9f3a"
             ],
             [
              0.8888888888888888,
              "#fdca26"
             ],
             [
              1,
              "#f0f921"
             ]
            ],
            "type": "contour"
           }
          ],
          "contourcarpet": [
           {
            "colorbar": {
             "outlinewidth": 0,
             "ticks": ""
            },
            "type": "contourcarpet"
           }
          ],
          "heatmap": [
           {
            "colorbar": {
             "outlinewidth": 0,
             "ticks": ""
            },
            "colorscale": [
             [
              0,
              "#0d0887"
             ],
             [
              0.1111111111111111,
              "#46039f"
             ],
             [
              0.2222222222222222,
              "#7201a8"
             ],
             [
              0.3333333333333333,
              "#9c179e"
             ],
             [
              0.4444444444444444,
              "#bd3786"
             ],
             [
              0.5555555555555556,
              "#d8576b"
             ],
             [
              0.6666666666666666,
              "#ed7953"
             ],
             [
              0.7777777777777778,
              "#fb9f3a"
             ],
             [
              0.8888888888888888,
              "#fdca26"
             ],
             [
              1,
              "#f0f921"
             ]
            ],
            "type": "heatmap"
           }
          ],
          "heatmapgl": [
           {
            "colorbar": {
             "outlinewidth": 0,
             "ticks": ""
            },
            "colorscale": [
             [
              0,
              "#0d0887"
             ],
             [
              0.1111111111111111,
              "#46039f"
             ],
             [
              0.2222222222222222,
              "#7201a8"
             ],
             [
              0.3333333333333333,
              "#9c179e"
             ],
             [
              0.4444444444444444,
              "#bd3786"
             ],
             [
              0.5555555555555556,
              "#d8576b"
             ],
             [
              0.6666666666666666,
              "#ed7953"
             ],
             [
              0.7777777777777778,
              "#fb9f3a"
             ],
             [
              0.8888888888888888,
              "#fdca26"
             ],
             [
              1,
              "#f0f921"
             ]
            ],
            "type": "heatmapgl"
           }
          ],
          "histogram": [
           {
            "marker": {
             "pattern": {
              "fillmode": "overlay",
              "size": 10,
              "solidity": 0.2
             }
            },
            "type": "histogram"
           }
          ],
          "histogram2d": [
           {
            "colorbar": {
             "outlinewidth": 0,
             "ticks": ""
            },
            "colorscale": [
             [
              0,
              "#0d0887"
             ],
             [
              0.1111111111111111,
              "#46039f"
             ],
             [
              0.2222222222222222,
              "#7201a8"
             ],
             [
              0.3333333333333333,
              "#9c179e"
             ],
             [
              0.4444444444444444,
              "#bd3786"
             ],
             [
              0.5555555555555556,
              "#d8576b"
             ],
             [
              0.6666666666666666,
              "#ed7953"
             ],
             [
              0.7777777777777778,
              "#fb9f3a"
             ],
             [
              0.8888888888888888,
              "#fdca26"
             ],
             [
              1,
              "#f0f921"
             ]
            ],
            "type": "histogram2d"
           }
          ],
          "histogram2dcontour": [
           {
            "colorbar": {
             "outlinewidth": 0,
             "ticks": ""
            },
            "colorscale": [
             [
              0,
              "#0d0887"
             ],
             [
              0.1111111111111111,
              "#46039f"
             ],
             [
              0.2222222222222222,
              "#7201a8"
             ],
             [
              0.3333333333333333,
              "#9c179e"
             ],
             [
              0.4444444444444444,
              "#bd3786"
             ],
             [
              0.5555555555555556,
              "#d8576b"
             ],
             [
              0.6666666666666666,
              "#ed7953"
             ],
             [
              0.7777777777777778,
              "#fb9f3a"
             ],
             [
              0.8888888888888888,
              "#fdca26"
             ],
             [
              1,
              "#f0f921"
             ]
            ],
            "type": "histogram2dcontour"
           }
          ],
          "mesh3d": [
           {
            "colorbar": {
             "outlinewidth": 0,
             "ticks": ""
            },
            "type": "mesh3d"
           }
          ],
          "parcoords": [
           {
            "line": {
             "colorbar": {
              "outlinewidth": 0,
              "ticks": ""
             }
            },
            "type": "parcoords"
           }
          ],
          "pie": [
           {
            "automargin": true,
            "type": "pie"
           }
          ],
          "scatter": [
           {
            "marker": {
             "line": {
              "color": "#283442"
             }
            },
            "type": "scatter"
           }
          ],
          "scatter3d": [
           {
            "line": {
             "colorbar": {
              "outlinewidth": 0,
              "ticks": ""
             }
            },
            "marker": {
             "colorbar": {
              "outlinewidth": 0,
              "ticks": ""
             }
            },
            "type": "scatter3d"
           }
          ],
          "scattercarpet": [
           {
            "marker": {
             "colorbar": {
              "outlinewidth": 0,
              "ticks": ""
             }
            },
            "type": "scattercarpet"
           }
          ],
          "scattergeo": [
           {
            "marker": {
             "colorbar": {
              "outlinewidth": 0,
              "ticks": ""
             }
            },
            "type": "scattergeo"
           }
          ],
          "scattergl": [
           {
            "marker": {
             "line": {
              "color": "#283442"
             }
            },
            "type": "scattergl"
           }
          ],
          "scattermapbox": [
           {
            "marker": {
             "colorbar": {
              "outlinewidth": 0,
              "ticks": ""
             }
            },
            "type": "scattermapbox"
           }
          ],
          "scatterpolar": [
           {
            "marker": {
             "colorbar": {
              "outlinewidth": 0,
              "ticks": ""
             }
            },
            "type": "scatterpolar"
           }
          ],
          "scatterpolargl": [
           {
            "marker": {
             "colorbar": {
              "outlinewidth": 0,
              "ticks": ""
             }
            },
            "type": "scatterpolargl"
           }
          ],
          "scatterternary": [
           {
            "marker": {
             "colorbar": {
              "outlinewidth": 0,
              "ticks": ""
             }
            },
            "type": "scatterternary"
           }
          ],
          "surface": [
           {
            "colorbar": {
             "outlinewidth": 0,
             "ticks": ""
            },
            "colorscale": [
             [
              0,
              "#0d0887"
             ],
             [
              0.1111111111111111,
              "#46039f"
             ],
             [
              0.2222222222222222,
              "#7201a8"
             ],
             [
              0.3333333333333333,
              "#9c179e"
             ],
             [
              0.4444444444444444,
              "#bd3786"
             ],
             [
              0.5555555555555556,
              "#d8576b"
             ],
             [
              0.6666666666666666,
              "#ed7953"
             ],
             [
              0.7777777777777778,
              "#fb9f3a"
             ],
             [
              0.8888888888888888,
              "#fdca26"
             ],
             [
              1,
              "#f0f921"
             ]
            ],
            "type": "surface"
           }
          ],
          "table": [
           {
            "cells": {
             "fill": {
              "color": "#506784"
             },
             "line": {
              "color": "rgb(17,17,17)"
             }
            },
            "header": {
             "fill": {
              "color": "#2a3f5f"
             },
             "line": {
              "color": "rgb(17,17,17)"
             }
            },
            "type": "table"
           }
          ]
         },
         "layout": {
          "annotationdefaults": {
           "arrowcolor": "#f2f5fa",
           "arrowhead": 0,
           "arrowwidth": 1
          },
          "autotypenumbers": "strict",
          "coloraxis": {
           "colorbar": {
            "outlinewidth": 0,
            "ticks": ""
           }
          },
          "colorscale": {
           "diverging": [
            [
             0,
             "#8e0152"
            ],
            [
             0.1,
             "#c51b7d"
            ],
            [
             0.2,
             "#de77ae"
            ],
            [
             0.3,
             "#f1b6da"
            ],
            [
             0.4,
             "#fde0ef"
            ],
            [
             0.5,
             "#f7f7f7"
            ],
            [
             0.6,
             "#e6f5d0"
            ],
            [
             0.7,
             "#b8e186"
            ],
            [
             0.8,
             "#7fbc41"
            ],
            [
             0.9,
             "#4d9221"
            ],
            [
             1,
             "#276419"
            ]
           ],
           "sequential": [
            [
             0,
             "#0d0887"
            ],
            [
             0.1111111111111111,
             "#46039f"
            ],
            [
             0.2222222222222222,
             "#7201a8"
            ],
            [
             0.3333333333333333,
             "#9c179e"
            ],
            [
             0.4444444444444444,
             "#bd3786"
            ],
            [
             0.5555555555555556,
             "#d8576b"
            ],
            [
             0.6666666666666666,
             "#ed7953"
            ],
            [
             0.7777777777777778,
             "#fb9f3a"
            ],
            [
             0.8888888888888888,
             "#fdca26"
            ],
            [
             1,
             "#f0f921"
            ]
           ],
           "sequentialminus": [
            [
             0,
             "#0d0887"
            ],
            [
             0.1111111111111111,
             "#46039f"
            ],
            [
             0.2222222222222222,
             "#7201a8"
            ],
            [
             0.3333333333333333,
             "#9c179e"
            ],
            [
             0.4444444444444444,
             "#bd3786"
            ],
            [
             0.5555555555555556,
             "#d8576b"
            ],
            [
             0.6666666666666666,
             "#ed7953"
            ],
            [
             0.7777777777777778,
             "#fb9f3a"
            ],
            [
             0.8888888888888888,
             "#fdca26"
            ],
            [
             1,
             "#f0f921"
            ]
           ]
          },
          "colorway": [
           "#636efa",
           "#EF553B",
           "#00cc96",
           "#ab63fa",
           "#FFA15A",
           "#19d3f3",
           "#FF6692",
           "#B6E880",
           "#FF97FF",
           "#FECB52"
          ],
          "font": {
           "color": "#f2f5fa"
          },
          "geo": {
           "bgcolor": "rgb(17,17,17)",
           "lakecolor": "rgb(17,17,17)",
           "landcolor": "rgb(17,17,17)",
           "showlakes": true,
           "showland": true,
           "subunitcolor": "#506784"
          },
          "hoverlabel": {
           "align": "left"
          },
          "hovermode": "closest",
          "mapbox": {
           "style": "dark"
          },
          "paper_bgcolor": "rgb(17,17,17)",
          "plot_bgcolor": "rgb(17,17,17)",
          "polar": {
           "angularaxis": {
            "gridcolor": "#506784",
            "linecolor": "#506784",
            "ticks": ""
           },
           "bgcolor": "rgb(17,17,17)",
           "radialaxis": {
            "gridcolor": "#506784",
            "linecolor": "#506784",
            "ticks": ""
           }
          },
          "scene": {
           "xaxis": {
            "backgroundcolor": "rgb(17,17,17)",
            "gridcolor": "#506784",
            "gridwidth": 2,
            "linecolor": "#506784",
            "showbackground": true,
            "ticks": "",
            "zerolinecolor": "#C8D4E3"
           },
           "yaxis": {
            "backgroundcolor": "rgb(17,17,17)",
            "gridcolor": "#506784",
            "gridwidth": 2,
            "linecolor": "#506784",
            "showbackground": true,
            "ticks": "",
            "zerolinecolor": "#C8D4E3"
           },
           "zaxis": {
            "backgroundcolor": "rgb(17,17,17)",
            "gridcolor": "#506784",
            "gridwidth": 2,
            "linecolor": "#506784",
            "showbackground": true,
            "ticks": "",
            "zerolinecolor": "#C8D4E3"
           }
          },
          "shapedefaults": {
           "line": {
            "color": "#f2f5fa"
           }
          },
          "sliderdefaults": {
           "bgcolor": "#C8D4E3",
           "bordercolor": "rgb(17,17,17)",
           "borderwidth": 1,
           "tickwidth": 0
          },
          "ternary": {
           "aaxis": {
            "gridcolor": "#506784",
            "linecolor": "#506784",
            "ticks": ""
           },
           "baxis": {
            "gridcolor": "#506784",
            "linecolor": "#506784",
            "ticks": ""
           },
           "bgcolor": "rgb(17,17,17)",
           "caxis": {
            "gridcolor": "#506784",
            "linecolor": "#506784",
            "ticks": ""
           }
          },
          "title": {
           "x": 0.05
          },
          "updatemenudefaults": {
           "bgcolor": "#506784",
           "borderwidth": 0
          },
          "xaxis": {
           "automargin": true,
           "gridcolor": "#283442",
           "linecolor": "#506784",
           "ticks": "",
           "title": {
            "standoff": 15
           },
           "zerolinecolor": "#283442",
           "zerolinewidth": 2
          },
          "yaxis": {
           "automargin": true,
           "gridcolor": "#283442",
           "linecolor": "#506784",
           "ticks": "",
           "title": {
            "standoff": 15
           },
           "zerolinecolor": "#283442",
           "zerolinewidth": 2
          }
         }
        },
        "title": {
         "text": "bar chart"
        },
        "width": 780,
        "xaxis": {
         "anchor": "y",
         "domain": [
          0,
          1
         ],
         "title": {
          "text": "Class"
         }
        },
        "yaxis": {
         "anchor": "x",
         "domain": [
          0,
          1
         ],
         "title": {
          "text": "index"
         }
        }
       }
      }
     },
     "metadata": {},
     "output_type": "display_data"
    }
   ],
   "source": [
    "import plotly.express as px\n",
    "import matplotlib.pyplot as plt\n",
    "import seaborn as sns\n",
    "\n",
    "fig=px.bar(df,x='new_price',title='bar chart',labels={'new_price':'Class','count':'Counts'},color='new_price',height=400,width=780,template='plotly_dark')\n",
    "fig.show()"
   ]
  },
  {
   "cell_type": "code",
   "execution_count": 112,
   "metadata": {},
   "outputs": [
    {
     "data": {
      "application/vnd.plotly.v1+json": {
       "config": {
        "plotlyServerURL": "https://plot.ly"
       },
       "data": [
        {
         "hovertemplate": "new_price=%{marker.color}<br>new_heading=%{y}<extra></extra>",
         "legendgroup": "",
         "marker": {
          "color": [
           null,
           null,
           30999,
           16999,
           12999,
           8499,
           9490,
           10499,
           null,
           13499,
           12499,
           12999,
           12999,
           23999,
           24999,
           7999,
           6799,
           7699,
           9999,
           22999,
           7699,
           12490,
           6799,
           12499,
           10499,
           7699,
           1599,
           null,
           null,
           null,
           null,
           null,
           null,
           null,
           16999,
           24999,
           12999,
           27999,
           4499,
           null,
           null,
           6799,
           26999,
           null,
           8999,
           8499,
           30999,
           7999,
           10499,
           10999,
           14499,
           13999,
           10499,
           8499,
           null,
           11499,
           7699,
           10499,
           null,
           null,
           null,
           null,
           null,
           null,
           null,
           24999,
           16999,
           24999,
           19999,
           16999,
           null,
           null,
           9790,
           12490,
           null,
           45999,
           19999,
           7999,
           7699,
           null,
           7499,
           6899,
           10593,
           21999,
           9999,
           39998,
           22999,
           30999,
           10499,
           1599,
           null,
           null,
           null,
           null,
           null,
           null,
           null,
           16999,
           24999,
           14499,
           15999,
           32999,
           null,
           null,
           8999,
           null,
           17499,
           8499,
           26499,
           10499,
           30999,
           15499,
           39999,
           11999,
           52999,
           21999,
           22999,
           69998,
           26999,
           7699,
           7999,
           1599,
           null,
           null,
           null,
           null,
           null,
           null,
           null,
           16999,
           24999,
           23999,
           22499,
           7999,
           null,
           null,
           18945,
           30999,
           6199,
           null,
           21999,
           30999,
           499,
           69999,
           82600,
           6799,
           21999,
           22999,
           15999,
           12999,
           42999,
           7999,
           13999,
           899,
           null,
           null,
           null,
           null,
           null
          ],
          "coloraxis": "coloraxis",
          "symbol": "circle"
         },
         "mode": "markers",
         "name": "",
         "orientation": "h",
         "showlegend": false,
         "type": "scatter",
         "x": [
          null,
          null,
          30999,
          16999,
          12999,
          8499,
          9490,
          10499,
          null,
          13499,
          12499,
          12999,
          12999,
          23999,
          24999,
          7999,
          6799,
          7699,
          9999,
          22999,
          7699,
          12490,
          6799,
          12499,
          10499,
          7699,
          1599,
          null,
          null,
          null,
          null,
          null,
          null,
          null,
          16999,
          24999,
          12999,
          27999,
          4499,
          null,
          null,
          6799,
          26999,
          null,
          8999,
          8499,
          30999,
          7999,
          10499,
          10999,
          14499,
          13999,
          10499,
          8499,
          null,
          11499,
          7699,
          10499,
          null,
          null,
          null,
          null,
          null,
          null,
          null,
          24999,
          16999,
          24999,
          19999,
          16999,
          null,
          null,
          9790,
          12490,
          null,
          45999,
          19999,
          7999,
          7699,
          null,
          7499,
          6899,
          10593,
          21999,
          9999,
          39998,
          22999,
          30999,
          10499,
          1599,
          null,
          null,
          null,
          null,
          null,
          null,
          null,
          16999,
          24999,
          14499,
          15999,
          32999,
          null,
          null,
          8999,
          null,
          17499,
          8499,
          26499,
          10499,
          30999,
          15499,
          39999,
          11999,
          52999,
          21999,
          22999,
          69998,
          26999,
          7699,
          7999,
          1599,
          null,
          null,
          null,
          null,
          null,
          null,
          null,
          16999,
          24999,
          23999,
          22499,
          7999,
          null,
          null,
          18945,
          30999,
          6199,
          null,
          21999,
          30999,
          499,
          69999,
          82600,
          6799,
          21999,
          22999,
          15999,
          12999,
          42999,
          7999,
          13999,
          899,
          null,
          null,
          null,
          null,
          null
         ],
         "xaxis": "x",
         "y": [
          null,
          null,
          "Redmi Note 13 Pro+ (Fusion Purple, 8GB RAM, 256GB Storage) | World's First Mediatek 7200 Ultra 5G | 200MP Hi-Res Camera | 1.5K Curved AMOLED | 120W HyperCharge",
          "Redmi Note 13 5G (Arctic White, 6GB RAM, 128GB Storage) | 5G Ready | 120Hz Bezel-Less AMOLED | 7.mm Slimmest Note Ever | 108MP Pro-Grade Camera",
          "Samsung Galaxy M34 5G (Waterfall Blue,6GB,128GB)|120Hz sAMOLED Display|50MP Triple No Shake Cam|6000 mAh Battery|4 Gen OS Upgrade & 5 Year Security Update|12GB RAM with RAM+|Android 13|Without Charger",
          "Redmi 13C (Stardust Black, 6GB RAM, 128GB Storage) | Powered by 4G MediaTek Helio G85 | 90Hz Display | 50MP AI Triple Camera",
          "Samsung Galaxy M14 5G (Berry Blue,4GB,128GB)|50MP Triple Cam|Segment's Only 6000 mAh 5G SP|5nm Processor|2 Gen. OS Upgrade & 4 Year Security Update|8GB RAM with RAM Plus|Android 13|Without Charger",
          null,
          null,
          "realme NARZO 70x 5G (Ice Blue, 6GB RAM,128GB Storage)|120Hz Ultra Smooth Display|Dimensity 6100+ 6nm 5G|50MP AI Camera|45W Charger in The Box",
          "realme NARZO N65 5G (Deep Green 6GB RAM, 128GB Storage) India's 1st D6300 5G Chipset | Ultra Slim Design | 120Hz Eye Comfort Display | 50MP AI Camera| Charger in The Box",
          "Samsung Galaxy M34 5G (Prism Silver,6GB,128GB)|120Hz sAMOLED Display|50MP Triple No Shake Cam|6000 mAh Battery|4 Gen OS Upgrade & 5 Year Security Update|12GB RAM with RAM+|Android 13|Without Charger",
          "Samsung Galaxy M34 5G (Midnight Blue,6GB,128GB)|120Hz sAMOLED Display|50MP Triple No Shake Cam|6000 mAh Battery|4 Gen OS Upgrade & 5 Year Security Update|12GB RAM with RAM+|Android 13|Without Charger",
          "iQOO Z7 Pro 5G (Blue Lagoon, 8GB RAM, 256GB Storage) | 3D Curved AMOLED Display | 4nm MediaTek Dimesity 7200 5G Processor | 64MP Aura Light OIS Camera | Segment's Slimmest & Lightest Smartphone",
          "Redmi Note 13 Pro (Coral Purple, 8GB RAM, 128GB Storage) | 1.5K AMOLED | 200MP Hi-Res Camera | Flagship 4nm SD 7s Gen 2 | 67W TurboCharge",
          "Lava O2 (Majestic Purple, 8GB RAM, UFS 2.2 128GB Storage) |AG Glass Back|T616 Octacore Processor|18W Fast Charging|6.5 inch 90Hz Punch Hole Display|50MP AI Dual Camera|Upto 16GB Expandable RAM",
          "POCO C65 Pastel Green 4GB RAM 128GB ROM",
          "Redmi 13C (Starshine Green, 4GB RAM, 128GB Storage) | Powered by 4G MediaTek Helio G85 | 90Hz Display | 50MP AI Triple Camera",
          "POCO M6 5G (Galactic Black,6GB RAM, 128GB Storage)",
          "Oneplus Nord CE 3 5G (Grey Shimmer, 8GB RAM, 128GB Storage)",
          "Redmi 13C (Starfrost White, 4GB RAM, 128GB Storage) | Powered by 4G MediaTek Helio G85 | 90Hz Display | 50MP AI Triple Camera",
          "Samsung Galaxy M14 5G (ICY Silver,6GB,128GB)|50MP Triple Cam|Segment's Only 6000 mAh 5G SP|5nm Processor|2 Gen. OS Upgrade & 4 Year Security Update|12GB RAM with RAM Plus|Android 13|Without Charger",
          "POCO C65 Pastel Blue 4GB RAM 128GB ROM",
          "Redmi 12 5G Moonstone Silver 6GB RAM 128GB ROM",
          "Redmi 13C 5G (Startrail Green, 4GB RAM, 128GB Storage) | MediaTek Dimensity 6100+ 5G | 90Hz Display",
          "Redmi 13C (Starshine Green, 4GB RAM, 128GB Storage) | Powered by 4G MediaTek Helio G85 | 90Hz Display | 50MP AI Triple Camera",
          null,
          null,
          null,
          null,
          null,
          null,
          null,
          null,
          "Redmi Note 13 5G (Arctic White, 6GB RAM, 128GB Storage) | 5G Ready | 120Hz Bezel-Less AMOLED | 7.mm Slimmest Note Ever | 108MP Pro-Grade Camera",
          "Redmi Note 13 Pro (Coral Purple, 8GB RAM, 128GB Storage) | 1.5K AMOLED | 200MP Hi-Res Camera | Flagship 4nm SD 7s Gen 2 | 67W TurboCharge",
          "Samsung Galaxy M34 5G (Prism Silver,6GB,128GB)|120Hz sAMOLED Display|50MP Triple No Shake Cam|6000 mAh Battery|4 Gen OS Upgrade & 5 Year Security Update|12GB RAM with RAM+|Android 13|Without Charger",
          "OnePlus 11R 5G (Sonic Black, 8GB RAM, 128GB Storage)",
          "IKALL K510 Smartphone (2GB Ram, 32GB) (Gold)",
          null,
          null,
          "POCO C65 Matte Black 4GB RAM 128GB ROM",
          "Oneplus Nord CE4 (Dark Chrome, 8GB RAM, 256GB Storage)",
          "Vivo T2x 5G (Marine Blue, 128 GB) (6 GB RAM)",
          "realme narzo N53 (Feather Gold, 4GB+64GB) 33W Segment Fastest Charging | Slim Smartphone | 90 Hz Smooth Display",
          "Redmi 13C (Starshine Green, 6GB RAM, 128GB Storage) | Powered by 4G MediaTek Helio G85 | 90Hz Display | 50MP AI Triple Camera",
          "Redmi Note 13 Pro+ (Fusion Black, 8GB RAM, 256GB Storage) | World's First Mediatek 7200 Ultra 5G | 200MP Hi-Res Camera | 1.5K Curved AMOLED | 120W HyperCharge",
          "Lava O2 (Imperial Green, 8GB RAM, UFS 2.2 128GB Storage) |AG Glass Back|T616 Octacore Processor|18W Fast Charging|6.5 inch 90Hz Punch Hole Display|50MP AI Dual Camera|Upto 16GB Expandable RAM",
          "Redmi 13C 5G (Startrail Green, 4GB RAM, 128GB Storage) | MediaTek Dimensity 6100+ 5G | 90Hz Display",
          "Vivo Y27 (Burgundy Black, 6GB RAM, 128GB Storage) with No Cost EMI/Additional Exchange Offers",
          "iQOO Z9x 5G (Tornado Green, 6GB RAM, 128GB Storage) | Snapdragon 6 Gen 1 with 560K+ AnTuTu Score | 6000 mAh Battery with 7.99mm Slim Design | 44W FlashCharge",
          "Redmi 12 5G Pastel Blue 8GB RAM 256GB ROM",
          "Redmi 13C 5G (Starlight Black, 4GB RAM, 128GB Storage) | MediaTek Dimensity 6100+ 5G | 90Hz Display",
          "POCO C65 Pastel Blue 8GB RAM 256GB ROM",
          "POCO M6 Pro 5G (Forest Green, 6GB RAM, 128GB Storage)",
          "realme NARZO N65 5G (Deep Green 4GB RAM, 128GB Storage) India's 1st D6300 5G Chipset | Ultra Slim 190g Design | 120Hz Eye Comfort Display | 50MP AI Camera| Charger in The Box",
          "Redmi 13C (Starshine Green, 4GB RAM, 128GB Storage) | Powered by 4G MediaTek Helio G85 | 90Hz Display | 50MP AI Triple Camera",
          "Redmi 13C 5G (Startrail Green, 4GB RAM, 128GB Storage) | MediaTek Dimensity 6100+ 5G | 90Hz Display",
          null,
          null,
          null,
          null,
          null,
          null,
          null,
          "Redmi Note 13 Pro (Arctic White, 8GB RAM, 128GB Storage) | 1.5K AMOLED | 200MP Hi-Res Camera | Flagship 4nm SD 7s Gen 2 | 67W TurboCharge",
          "Redmi Note 13 5G (Stealth Black, 6GB RAM, 128GB Storage) | 5G Ready | 120Hz Bezel-Less AMOLED | 7.mm Slimmest Note Ever | 108MP Pro-Grade Camera",
          "Oneplus Nord CE4 (Celadon Marble, 8GB RAM, 128GB Storage)",
          "OnePlus Nord 3 5G (Misty Green, 8GB RAM, 128GB Storage)",
          "Lava Agni 2 5G (Glass Viridian, 8GB RAM, 256GB Storage) | India's First Dimensity 7050 Processor | 120 Hz Curved Amoled Display | 13 5G Bands | Superfast 66W Charging | Clean Android",
          null,
          null,
          "Samsung Galaxy M14 5G (Smoky Teal,4GB,128GB)|50MP Triple Cam|Segment's Only 6000 mAh 5G SP|5nm Processor|2 Gen. OS Upgrade & 4 Year Security Update|8GB RAM with RAM Plus|Android 13|Without Charger",
          "Samsung Galaxy M14 5G (Smoky Teal,6GB,128GB)|50MP Triple Cam|Segment's Only 6000 mAh 5G SP|5nm Processor|2 Gen. OS Upgrade & 4 Year Security Update|12GB RAM with RAM Plus|Android 13|Without Charger",
          "POCO M6 Pro 5G (Forest Green, 6GB RAM, 128GB Storage)",
          "OnePlus 12R (Iron Gray, 16GB RAM, 256GB Storage)",
          "iQOO Z9 5G (Graphene Blue, 8GB RAM, 128GB Storage) | Dimensity 7200 5G Processor | Sony IMX882 OIS Camera | 120Hz AMOLED with 1800 nits Local Peak Brightness | 44W Charger in The Box",
          "Lava O2 (Imperial Green, 8GB RAM, UFS 2.2 128GB Storage) |AG Glass Back|T616 Octacore Processor|18W Fast Charging|6.5 inch 90Hz Punch Hole Display|50MP AI Dual Camera|Upto 16GB Expandable RAM",
          "Redmi 13C (Starshine Green, 4GB RAM, 128GB Storage) | Powered by 4G MediaTek Helio G85 | 90Hz Display | 50MP AI Triple Camera",
          "OnePlus Nord CE 3 Lite 5G (Chromatic Gray, 8GB RAM, 256GB Storage)",
          "POCO C65 Pastel Blue 6GB RAM 128GB ROM",
          "TECNO POP 8 (Gravity Black,(8GB*+64GB)| 90Hz Punch Hole Display with Dynamic Port & Dual Speakers with DTS| 5000mAh Battery |10W Type-C| Side Fingerprint Sensor| Octa-Core Processor",
          "realme narzo N55 (Prime Black, 6GB+128GB) 33W Segment Fastest Charging | Super High-res 64MP Primary AI Camera",
          "POCO X6 5G Snowstorm White, 12 GB RAM 512 GB ROM",
          "Nokia G42 5G Powered by Snapdragon® 480 Plus 5G | 50MP Triple Rear AI Camera | 6GB RAM (4GB RAM + 2GB Virtual RAM) | 128GB Storage | 3-Day Battery Life | 2 Years of Android Upgrades | SO Grey",
          "OnePlus 12R (Iron Gray, 8GB RAM, 128GB Storage)",
          "OnePlus Nord CE 3 5G (Aqua Surge, 8GB RAM, 128GB Storage)",
          "Redmi Note 13 Pro+ (Fusion White, 8GB RAM, 256GB Storage) | World's First Mediatek 7200 Ultra 5G | 200MP Hi-Res Camera | 1.5K Curved AMOLED | 120W HyperCharge",
          "Redmi 13C 5G (Startrail Green, 4GB RAM, 128GB Storage) | MediaTek Dimensity 6100+ 5G | 90Hz Display",
          null,
          null,
          null,
          null,
          null,
          null,
          null,
          null,
          "Redmi Note 13 5G (Stealth Black, 6GB RAM, 128GB Storage) | 5G Ready | 120Hz Bezel-Less AMOLED | 7.mm Slimmest Note Ever | 108MP Pro-Grade Camera",
          "Redmi Note 13 Pro (Arctic White, 8GB RAM, 128GB Storage) | 1.5K AMOLED | 200MP Hi-Res Camera | Flagship 4nm SD 7s Gen 2 | 67W TurboCharge",
          "iQOO Z9x 5G (Storm Grey, 6GB RAM, 128GB Storage) | Snapdragon 6 Gen 1 with 560K+ AnTuTu Score | 6000 mAh Battery with 7.99mm Slim Design | 44W FlashCharge",
          "Samsung Galaxy M15 5G (Blue Topaz,8GB RAM,128GB Storage)| 50MP Triple Cam| 6000mAh Battery| MediaTek Dimensity 6100+| 4 Gen. OS Upgrade & 5 Year Security Update| Super AMOLED Display| Without Charger",
          "OnePlus 11R 5G (Galactic Silver, 16GB RAM, 256GB Storage)",
          null,
          null,
          "realme narzo N53 (Feather Black, 4GB+64GB) 33W Segment Fastest Charging | Slim Smartphone | 90 Hz Smooth Display",
          "Motorola G84 5G (Midnight Blue, 12GB RAM, 256GB Storage) | 50MP (OIS) | 16MP Front Camera | Snapdragon 695 Processor | Ultra Premium Vegan Leather Design | Unbelievable 5G Speeds with 14 5G Bands",
          "Oppo A79 5G (Mystery Black, 8GB RAM, 128GB Storage) | 5000 mAh Battery with 33W SUPERVOOC Charger | 50MP AI Rear Camera | 6.72\" FHD+ 90Hz Display | with No Cost EMI/Additional Exchange Offers",
          "Redmi 13C (Starfrost White, 6GB RAM, 128GB Storage) | Powered by 4G MediaTek Helio G85 | 90Hz Display | 50MP AI Triple Camera",
          "POCO X6 Pro 5G Spectre Black 12GB RAM 512GB ROM",
          "Redmi 13C 5G (Startrail Green, 4GB RAM, 128GB Storage) | MediaTek Dimensity 6100+ 5G | 90Hz Display",
          "Redmi Note 13 Pro+ (Fusion White, 8GB RAM, 256GB Storage) | World's First Mediatek 7200 Ultra 5G | 200MP Hi-Res Camera | 1.5K Curved AMOLED | 120W HyperCharge",
          "OPPO A59 5G (Starry Black, 6GB RAM, 128GB Storage) | 5000 mAh Battery with 33W SUPERVOOC Charger | 6.56\" HD+ 90Hz Display | with No Cost EMI/Additional Exchange Offers",
          "realme GT 6T 5G (Razor Green,12GB RAM+512GB Storage) | India's 1st 7+ Gen 3 Flagship Chipset | 1.5M+AnTuTu Score | 5500mAh+120W | The World's Brightest Flagship Display",
          "Redmi 13C 5G (Startrail Green,6GB RAM, 128GB Storage) | MediaTek Dimensity 6100+ 5G | 90Hz Display",
          "iQOO 12 5G (Desert Red, 12GB RAM, 256GB Storage) |India's 1st Snapdragon® 8 Gen 3 Mobile Platform | India's only Flagship with 50MP + 50MP + 64MP Camera",
          "iQOO Z9 5G (Graphene Blue, 8GB RAM, 256GB Storage) | Dimensity 7200 5G Processor | Sony IMX882 OIS Camera | 120Hz AMOLED with 1800 nits Local Peak Brightness | 44W Charger in The Box",
          "Vivo Y200 5G Mobile (Jungle Green, 8GB RAM, 256GB Storage) with No Cost EMI/Additional Exchange Offers",
          "OnePlus 12 (Flowy Emerald, 16GB RAM, 512GB Storage)",
          "Oppo Reno 11 5G (Wave Green,128 GB) (8 GB RAM)",
          "Redmi 13C (Starshine Green, 4GB RAM, 128GB Storage) | Powered by 4G MediaTek Helio G85 | 90Hz Display | 50MP AI Triple Camera",
          "Lava O2 (Imperial Green, 8GB RAM, UFS 2.2 128GB Storage) |AG Glass Back|T616 Octacore Processor|18W Fast Charging|6.5 inch 90Hz Punch Hole Display|50MP AI Dual Camera|Upto 16GB Expandable RAM",
          null,
          null,
          null,
          null,
          null,
          null,
          null,
          null,
          "Redmi Note 13 5G (Stealth Black, 6GB RAM, 128GB Storage) | 5G Ready | 120Hz Bezel-Less AMOLED | 7.mm Slimmest Note Ever | 108MP Pro-Grade Camera",
          "Redmi Note 13 Pro (Coral Purple, 8GB RAM, 128GB Storage) | 1.5K AMOLED | 200MP Hi-Res Camera | Flagship 4nm SD 7s Gen 2 | 67W TurboCharge",
          "Oppo F25 Pro 5G (Coral Purple, 8GB RAM, 128GB Storage) | with No Cost EMI/Additional Exchange Offers",
          "Samsung Galaxy A15 5G (Blue, 8GB, 256GB Storage) | 50 MP Main Camera | Android 14 with One UI 6.0 | 16GB Expandable RAM | MediaTek Dimensity 6100+ | 5000 mAh Battery",
          "Redmi A3 (Lake Blue, 4GB RAM, 128GB Storage) | Premium Halo Design | 90Hz Display | Powerful 4G G36 Processor",
          null,
          null,
          "vivo Y100A 5G (Twilight Gold, 8GB RAM, 128GB Storage) with No Cost EMI/Additional Exchange Offers",
          "realme GT 6T 5G (Fluid Silver,8GB RAM+128GB Storage) | India's 1st 7+ Gen 3 Flagship Chipset | 1.5M+AnTuTu Score | 5500mAh+120W | The World's Brightest Flagship Display",
          "Micromax in 2B (Blue, 4GB RAM, 64GB Storage)",
          "Realme C55 (Rainy Night, 6GB RAM 64GB Storage)",
          "realme NARZO 70 Pro 5G (Glass Gold, 8GB RAM,256GB Storage) Dimensity 7050 5G Chipset | Horizon Glass Design | Segment 1st Flagship Sony IMX890 OIS Camera",
          "Redmi Note 13 Pro+ (Fusion White, 8GB RAM, 256GB Storage) | World's First Mediatek 7200 Ultra 5G | 200MP Hi-Res Camera | 1.5K Curved AMOLED | 120W HyperCharge",
          "7SEVEN® Suitable for Xiaomi mi 12 pro 5g tempered glass screen protector guard with edge-to-edge full glue mobile screen Protector from anti scratch",
          "TECNO Phantom V Fold 5G Black (12GB RAM,256GB Storage) | The First Full Size Fold | LTPO AMOLED Display | 4nm D9000+ Fast Processor",
          "Apple iPhone 15 Plus (128 GB) - Green",
          "itel A70 (4GB RAM, 128GB ROM) Upto 12GB RAM with Memory Fusion | 13MP Dual Rear Camera & 8MP Front Camera | 5000mAh with Type-C | Dynamic Bar | Side Fingerprint | Octa-Core Processor | Azure Blue",
          "TECNO POVA 6 PRO 5G (24GB*+256GB) | 108MP Camera + 32MP Selfie Camera | 120Hz Dot-in AMOLED Display | Dual Speakers with Dolby Atmos | 6000mAh & 70W Charger | Arc Interface | Meteorite Grey",
          "TECNO CAMON 30 5G (16GB*+256GB) | 100MP OIS Mode + 50MP Auto Focus Selfie | 6.78\" LTPS AMOLED Display | MediaTek Dimensity 7020 | 5000mAh Battery & 33W Charger | Basaltic Dark",
          "realme NARZO 70 5G（Ice Blue,6GB RAM, 128GB Storage | Dimensity 7050 5G Chipset | 120Hz AMOLED Display | 50MP Primary Camera | 45W Charger in The Box",
          "realme narzo N53 (Feather Black, 6GB+128GB) 33W Segment Fastest Charging | Slim Smartphone | 90 Hz Smooth Display",
          "OnePlus 12R (Iron Gray, 8GB RAM, 256GB Storage)",
          "Lava O2 (Majestic Purple, 8GB RAM, UFS 2.2 128GB Storage) |AG Glass Back|T616 Octacore Processor|18W Fast Charging|6.5 inch 90Hz Punch Hole Display|50MP AI Dual Camera|Upto 16GB Expandable RAM",
          "Redmi 13C 5G (Startrail Green, 8GB RAM, 256GB Storage) | MediaTek Dimensity 6100+ 5G | 90Hz Display",
          null,
          null,
          null,
          null,
          null,
          null
         ],
         "yaxis": "y"
        }
       ],
       "layout": {
        "coloraxis": {
         "colorbar": {
          "title": {
           "text": "new_price"
          }
         },
         "colorscale": [
          [
           0,
           "#0d0887"
          ],
          [
           0.1111111111111111,
           "#46039f"
          ],
          [
           0.2222222222222222,
           "#7201a8"
          ],
          [
           0.3333333333333333,
           "#9c179e"
          ],
          [
           0.4444444444444444,
           "#bd3786"
          ],
          [
           0.5555555555555556,
           "#d8576b"
          ],
          [
           0.6666666666666666,
           "#ed7953"
          ],
          [
           0.7777777777777778,
           "#fb9f3a"
          ],
          [
           0.8888888888888888,
           "#fdca26"
          ],
          [
           1,
           "#f0f921"
          ]
         ]
        },
        "legend": {
         "tracegroupgap": 0
        },
        "margin": {
         "t": 60
        },
        "template": {
         "data": {
          "bar": [
           {
            "error_x": {
             "color": "#2a3f5f"
            },
            "error_y": {
             "color": "#2a3f5f"
            },
            "marker": {
             "line": {
              "color": "#E5ECF6",
              "width": 0.5
             },
             "pattern": {
              "fillmode": "overlay",
              "size": 10,
              "solidity": 0.2
             }
            },
            "type": "bar"
           }
          ],
          "barpolar": [
           {
            "marker": {
             "line": {
              "color": "#E5ECF6",
              "width": 0.5
             },
             "pattern": {
              "fillmode": "overlay",
              "size": 10,
              "solidity": 0.2
             }
            },
            "type": "barpolar"
           }
          ],
          "carpet": [
           {
            "aaxis": {
             "endlinecolor": "#2a3f5f",
             "gridcolor": "white",
             "linecolor": "white",
             "minorgridcolor": "white",
             "startlinecolor": "#2a3f5f"
            },
            "baxis": {
             "endlinecolor": "#2a3f5f",
             "gridcolor": "white",
             "linecolor": "white",
             "minorgridcolor": "white",
             "startlinecolor": "#2a3f5f"
            },
            "type": "carpet"
           }
          ],
          "choropleth": [
           {
            "colorbar": {
             "outlinewidth": 0,
             "ticks": ""
            },
            "type": "choropleth"
           }
          ],
          "contour": [
           {
            "colorbar": {
             "outlinewidth": 0,
             "ticks": ""
            },
            "colorscale": [
             [
              0,
              "#0d0887"
             ],
             [
              0.1111111111111111,
              "#46039f"
             ],
             [
              0.2222222222222222,
              "#7201a8"
             ],
             [
              0.3333333333333333,
              "#9c179e"
             ],
             [
              0.4444444444444444,
              "#bd3786"
             ],
             [
              0.5555555555555556,
              "#d8576b"
             ],
             [
              0.6666666666666666,
              "#ed7953"
             ],
             [
              0.7777777777777778,
              "#fb9f3a"
             ],
             [
              0.8888888888888888,
              "#fdca26"
             ],
             [
              1,
              "#f0f921"
             ]
            ],
            "type": "contour"
           }
          ],
          "contourcarpet": [
           {
            "colorbar": {
             "outlinewidth": 0,
             "ticks": ""
            },
            "type": "contourcarpet"
           }
          ],
          "heatmap": [
           {
            "colorbar": {
             "outlinewidth": 0,
             "ticks": ""
            },
            "colorscale": [
             [
              0,
              "#0d0887"
             ],
             [
              0.1111111111111111,
              "#46039f"
             ],
             [
              0.2222222222222222,
              "#7201a8"
             ],
             [
              0.3333333333333333,
              "#9c179e"
             ],
             [
              0.4444444444444444,
              "#bd3786"
             ],
             [
              0.5555555555555556,
              "#d8576b"
             ],
             [
              0.6666666666666666,
              "#ed7953"
             ],
             [
              0.7777777777777778,
              "#fb9f3a"
             ],
             [
              0.8888888888888888,
              "#fdca26"
             ],
             [
              1,
              "#f0f921"
             ]
            ],
            "type": "heatmap"
           }
          ],
          "heatmapgl": [
           {
            "colorbar": {
             "outlinewidth": 0,
             "ticks": ""
            },
            "colorscale": [
             [
              0,
              "#0d0887"
             ],
             [
              0.1111111111111111,
              "#46039f"
             ],
             [
              0.2222222222222222,
              "#7201a8"
             ],
             [
              0.3333333333333333,
              "#9c179e"
             ],
             [
              0.4444444444444444,
              "#bd3786"
             ],
             [
              0.5555555555555556,
              "#d8576b"
             ],
             [
              0.6666666666666666,
              "#ed7953"
             ],
             [
              0.7777777777777778,
              "#fb9f3a"
             ],
             [
              0.8888888888888888,
              "#fdca26"
             ],
             [
              1,
              "#f0f921"
             ]
            ],
            "type": "heatmapgl"
           }
          ],
          "histogram": [
           {
            "marker": {
             "pattern": {
              "fillmode": "overlay",
              "size": 10,
              "solidity": 0.2
             }
            },
            "type": "histogram"
           }
          ],
          "histogram2d": [
           {
            "colorbar": {
             "outlinewidth": 0,
             "ticks": ""
            },
            "colorscale": [
             [
              0,
              "#0d0887"
             ],
             [
              0.1111111111111111,
              "#46039f"
             ],
             [
              0.2222222222222222,
              "#7201a8"
             ],
             [
              0.3333333333333333,
              "#9c179e"
             ],
             [
              0.4444444444444444,
              "#bd3786"
             ],
             [
              0.5555555555555556,
              "#d8576b"
             ],
             [
              0.6666666666666666,
              "#ed7953"
             ],
             [
              0.7777777777777778,
              "#fb9f3a"
             ],
             [
              0.8888888888888888,
              "#fdca26"
             ],
             [
              1,
              "#f0f921"
             ]
            ],
            "type": "histogram2d"
           }
          ],
          "histogram2dcontour": [
           {
            "colorbar": {
             "outlinewidth": 0,
             "ticks": ""
            },
            "colorscale": [
             [
              0,
              "#0d0887"
             ],
             [
              0.1111111111111111,
              "#46039f"
             ],
             [
              0.2222222222222222,
              "#7201a8"
             ],
             [
              0.3333333333333333,
              "#9c179e"
             ],
             [
              0.4444444444444444,
              "#bd3786"
             ],
             [
              0.5555555555555556,
              "#d8576b"
             ],
             [
              0.6666666666666666,
              "#ed7953"
             ],
             [
              0.7777777777777778,
              "#fb9f3a"
             ],
             [
              0.8888888888888888,
              "#fdca26"
             ],
             [
              1,
              "#f0f921"
             ]
            ],
            "type": "histogram2dcontour"
           }
          ],
          "mesh3d": [
           {
            "colorbar": {
             "outlinewidth": 0,
             "ticks": ""
            },
            "type": "mesh3d"
           }
          ],
          "parcoords": [
           {
            "line": {
             "colorbar": {
              "outlinewidth": 0,
              "ticks": ""
             }
            },
            "type": "parcoords"
           }
          ],
          "pie": [
           {
            "automargin": true,
            "type": "pie"
           }
          ],
          "scatter": [
           {
            "fillpattern": {
             "fillmode": "overlay",
             "size": 10,
             "solidity": 0.2
            },
            "type": "scatter"
           }
          ],
          "scatter3d": [
           {
            "line": {
             "colorbar": {
              "outlinewidth": 0,
              "ticks": ""
             }
            },
            "marker": {
             "colorbar": {
              "outlinewidth": 0,
              "ticks": ""
             }
            },
            "type": "scatter3d"
           }
          ],
          "scattercarpet": [
           {
            "marker": {
             "colorbar": {
              "outlinewidth": 0,
              "ticks": ""
             }
            },
            "type": "scattercarpet"
           }
          ],
          "scattergeo": [
           {
            "marker": {
             "colorbar": {
              "outlinewidth": 0,
              "ticks": ""
             }
            },
            "type": "scattergeo"
           }
          ],
          "scattergl": [
           {
            "marker": {
             "colorbar": {
              "outlinewidth": 0,
              "ticks": ""
             }
            },
            "type": "scattergl"
           }
          ],
          "scattermapbox": [
           {
            "marker": {
             "colorbar": {
              "outlinewidth": 0,
              "ticks": ""
             }
            },
            "type": "scattermapbox"
           }
          ],
          "scatterpolar": [
           {
            "marker": {
             "colorbar": {
              "outlinewidth": 0,
              "ticks": ""
             }
            },
            "type": "scatterpolar"
           }
          ],
          "scatterpolargl": [
           {
            "marker": {
             "colorbar": {
              "outlinewidth": 0,
              "ticks": ""
             }
            },
            "type": "scatterpolargl"
           }
          ],
          "scatterternary": [
           {
            "marker": {
             "colorbar": {
              "outlinewidth": 0,
              "ticks": ""
             }
            },
            "type": "scatterternary"
           }
          ],
          "surface": [
           {
            "colorbar": {
             "outlinewidth": 0,
             "ticks": ""
            },
            "colorscale": [
             [
              0,
              "#0d0887"
             ],
             [
              0.1111111111111111,
              "#46039f"
             ],
             [
              0.2222222222222222,
              "#7201a8"
             ],
             [
              0.3333333333333333,
              "#9c179e"
             ],
             [
              0.4444444444444444,
              "#bd3786"
             ],
             [
              0.5555555555555556,
              "#d8576b"
             ],
             [
              0.6666666666666666,
              "#ed7953"
             ],
             [
              0.7777777777777778,
              "#fb9f3a"
             ],
             [
              0.8888888888888888,
              "#fdca26"
             ],
             [
              1,
              "#f0f921"
             ]
            ],
            "type": "surface"
           }
          ],
          "table": [
           {
            "cells": {
             "fill": {
              "color": "#EBF0F8"
             },
             "line": {
              "color": "white"
             }
            },
            "header": {
             "fill": {
              "color": "#C8D4E3"
             },
             "line": {
              "color": "white"
             }
            },
            "type": "table"
           }
          ]
         },
         "layout": {
          "annotationdefaults": {
           "arrowcolor": "#2a3f5f",
           "arrowhead": 0,
           "arrowwidth": 1
          },
          "autotypenumbers": "strict",
          "coloraxis": {
           "colorbar": {
            "outlinewidth": 0,
            "ticks": ""
           }
          },
          "colorscale": {
           "diverging": [
            [
             0,
             "#8e0152"
            ],
            [
             0.1,
             "#c51b7d"
            ],
            [
             0.2,
             "#de77ae"
            ],
            [
             0.3,
             "#f1b6da"
            ],
            [
             0.4,
             "#fde0ef"
            ],
            [
             0.5,
             "#f7f7f7"
            ],
            [
             0.6,
             "#e6f5d0"
            ],
            [
             0.7,
             "#b8e186"
            ],
            [
             0.8,
             "#7fbc41"
            ],
            [
             0.9,
             "#4d9221"
            ],
            [
             1,
             "#276419"
            ]
           ],
           "sequential": [
            [
             0,
             "#0d0887"
            ],
            [
             0.1111111111111111,
             "#46039f"
            ],
            [
             0.2222222222222222,
             "#7201a8"
            ],
            [
             0.3333333333333333,
             "#9c179e"
            ],
            [
             0.4444444444444444,
             "#bd3786"
            ],
            [
             0.5555555555555556,
             "#d8576b"
            ],
            [
             0.6666666666666666,
             "#ed7953"
            ],
            [
             0.7777777777777778,
             "#fb9f3a"
            ],
            [
             0.8888888888888888,
             "#fdca26"
            ],
            [
             1,
             "#f0f921"
            ]
           ],
           "sequentialminus": [
            [
             0,
             "#0d0887"
            ],
            [
             0.1111111111111111,
             "#46039f"
            ],
            [
             0.2222222222222222,
             "#7201a8"
            ],
            [
             0.3333333333333333,
             "#9c179e"
            ],
            [
             0.4444444444444444,
             "#bd3786"
            ],
            [
             0.5555555555555556,
             "#d8576b"
            ],
            [
             0.6666666666666666,
             "#ed7953"
            ],
            [
             0.7777777777777778,
             "#fb9f3a"
            ],
            [
             0.8888888888888888,
             "#fdca26"
            ],
            [
             1,
             "#f0f921"
            ]
           ]
          },
          "colorway": [
           "#636efa",
           "#EF553B",
           "#00cc96",
           "#ab63fa",
           "#FFA15A",
           "#19d3f3",
           "#FF6692",
           "#B6E880",
           "#FF97FF",
           "#FECB52"
          ],
          "font": {
           "color": "#2a3f5f"
          },
          "geo": {
           "bgcolor": "white",
           "lakecolor": "white",
           "landcolor": "#E5ECF6",
           "showlakes": true,
           "showland": true,
           "subunitcolor": "white"
          },
          "hoverlabel": {
           "align": "left"
          },
          "hovermode": "closest",
          "mapbox": {
           "style": "light"
          },
          "paper_bgcolor": "white",
          "plot_bgcolor": "#E5ECF6",
          "polar": {
           "angularaxis": {
            "gridcolor": "white",
            "linecolor": "white",
            "ticks": ""
           },
           "bgcolor": "#E5ECF6",
           "radialaxis": {
            "gridcolor": "white",
            "linecolor": "white",
            "ticks": ""
           }
          },
          "scene": {
           "xaxis": {
            "backgroundcolor": "#E5ECF6",
            "gridcolor": "white",
            "gridwidth": 2,
            "linecolor": "white",
            "showbackground": true,
            "ticks": "",
            "zerolinecolor": "white"
           },
           "yaxis": {
            "backgroundcolor": "#E5ECF6",
            "gridcolor": "white",
            "gridwidth": 2,
            "linecolor": "white",
            "showbackground": true,
            "ticks": "",
            "zerolinecolor": "white"
           },
           "zaxis": {
            "backgroundcolor": "#E5ECF6",
            "gridcolor": "white",
            "gridwidth": 2,
            "linecolor": "white",
            "showbackground": true,
            "ticks": "",
            "zerolinecolor": "white"
           }
          },
          "shapedefaults": {
           "line": {
            "color": "#2a3f5f"
           }
          },
          "ternary": {
           "aaxis": {
            "gridcolor": "white",
            "linecolor": "white",
            "ticks": ""
           },
           "baxis": {
            "gridcolor": "white",
            "linecolor": "white",
            "ticks": ""
           },
           "bgcolor": "#E5ECF6",
           "caxis": {
            "gridcolor": "white",
            "linecolor": "white",
            "ticks": ""
           }
          },
          "title": {
           "x": 0.05
          },
          "xaxis": {
           "automargin": true,
           "gridcolor": "white",
           "linecolor": "white",
           "ticks": "",
           "title": {
            "standoff": 15
           },
           "zerolinecolor": "white",
           "zerolinewidth": 2
          },
          "yaxis": {
           "automargin": true,
           "gridcolor": "white",
           "linecolor": "white",
           "ticks": "",
           "title": {
            "standoff": 15
           },
           "zerolinecolor": "white",
           "zerolinewidth": 2
          }
         }
        },
        "xaxis": {
         "anchor": "y",
         "domain": [
          0,
          1
         ],
         "title": {
          "text": "new_price"
         }
        },
        "yaxis": {
         "anchor": "x",
         "domain": [
          0,
          1
         ],
         "title": {
          "text": "new_heading"
         }
        }
       }
      }
     },
     "metadata": {},
     "output_type": "display_data"
    }
   ],
   "source": [
    "px.scatter(df,x='new_price',y='new_heading',color='new_price')"
   ]
  }
 ],
 "metadata": {
  "kernelspec": {
   "display_name": "base",
   "language": "python",
   "name": "python3"
  },
  "language_info": {
   "codemirror_mode": {
    "name": "ipython",
    "version": 3
   },
   "file_extension": ".py",
   "mimetype": "text/x-python",
   "name": "python",
   "nbconvert_exporter": "python",
   "pygments_lexer": "ipython3",
   "version": "3.12.2"
  }
 },
 "nbformat": 4,
 "nbformat_minor": 2
}
